{
  "cells": [
    {
      "cell_type": "code",
      "execution_count": 76,
      "metadata": {
        "colab": {
          "base_uri": "https://localhost:8080/",
          "height": 703
        },
        "id": "jyLbI3VUF7f6",
        "outputId": "8e2dfc0d-e3ce-4336-8612-f95852f390c0"
      },
      "outputs": [
        {
          "data": {
            "text/html": [
              "<div>\n",
              "<style scoped>\n",
              "    .dataframe tbody tr th:only-of-type {\n",
              "        vertical-align: middle;\n",
              "    }\n",
              "\n",
              "    .dataframe tbody tr th {\n",
              "        vertical-align: top;\n",
              "    }\n",
              "\n",
              "    .dataframe thead th {\n",
              "        text-align: right;\n",
              "    }\n",
              "</style>\n",
              "<table border=\"1\" class=\"dataframe\">\n",
              "  <thead>\n",
              "    <tr style=\"text-align: right;\">\n",
              "      <th></th>\n",
              "      <th>EIN</th>\n",
              "      <th>NAME</th>\n",
              "      <th>APPLICATION_TYPE</th>\n",
              "      <th>AFFILIATION</th>\n",
              "      <th>CLASSIFICATION</th>\n",
              "      <th>USE_CASE</th>\n",
              "      <th>ORGANIZATION</th>\n",
              "      <th>STATUS</th>\n",
              "      <th>INCOME_AMT</th>\n",
              "      <th>SPECIAL_CONSIDERATIONS</th>\n",
              "      <th>ASK_AMT</th>\n",
              "      <th>IS_SUCCESSFUL</th>\n",
              "    </tr>\n",
              "  </thead>\n",
              "  <tbody>\n",
              "    <tr>\n",
              "      <th>0</th>\n",
              "      <td>10520599</td>\n",
              "      <td>BLUE KNIGHTS MOTORCYCLE CLUB</td>\n",
              "      <td>T10</td>\n",
              "      <td>Independent</td>\n",
              "      <td>C1000</td>\n",
              "      <td>ProductDev</td>\n",
              "      <td>Association</td>\n",
              "      <td>1</td>\n",
              "      <td>0</td>\n",
              "      <td>N</td>\n",
              "      <td>5000</td>\n",
              "      <td>1</td>\n",
              "    </tr>\n",
              "    <tr>\n",
              "      <th>1</th>\n",
              "      <td>10531628</td>\n",
              "      <td>AMERICAN CHESAPEAKE CLUB CHARITABLE TR</td>\n",
              "      <td>T3</td>\n",
              "      <td>Independent</td>\n",
              "      <td>C2000</td>\n",
              "      <td>Preservation</td>\n",
              "      <td>Co-operative</td>\n",
              "      <td>1</td>\n",
              "      <td>1-9999</td>\n",
              "      <td>N</td>\n",
              "      <td>108590</td>\n",
              "      <td>1</td>\n",
              "    </tr>\n",
              "    <tr>\n",
              "      <th>2</th>\n",
              "      <td>10547893</td>\n",
              "      <td>ST CLOUD PROFESSIONAL FIREFIGHTERS</td>\n",
              "      <td>T5</td>\n",
              "      <td>CompanySponsored</td>\n",
              "      <td>C3000</td>\n",
              "      <td>ProductDev</td>\n",
              "      <td>Association</td>\n",
              "      <td>1</td>\n",
              "      <td>0</td>\n",
              "      <td>N</td>\n",
              "      <td>5000</td>\n",
              "      <td>0</td>\n",
              "    </tr>\n",
              "    <tr>\n",
              "      <th>3</th>\n",
              "      <td>10553066</td>\n",
              "      <td>SOUTHSIDE ATHLETIC ASSOCIATION</td>\n",
              "      <td>T3</td>\n",
              "      <td>CompanySponsored</td>\n",
              "      <td>C2000</td>\n",
              "      <td>Preservation</td>\n",
              "      <td>Trust</td>\n",
              "      <td>1</td>\n",
              "      <td>10000-24999</td>\n",
              "      <td>N</td>\n",
              "      <td>6692</td>\n",
              "      <td>1</td>\n",
              "    </tr>\n",
              "    <tr>\n",
              "      <th>4</th>\n",
              "      <td>10556103</td>\n",
              "      <td>GENETIC RESEARCH INSTITUTE OF THE DESERT</td>\n",
              "      <td>T3</td>\n",
              "      <td>Independent</td>\n",
              "      <td>C1000</td>\n",
              "      <td>Heathcare</td>\n",
              "      <td>Trust</td>\n",
              "      <td>1</td>\n",
              "      <td>100000-499999</td>\n",
              "      <td>N</td>\n",
              "      <td>142590</td>\n",
              "      <td>1</td>\n",
              "    </tr>\n",
              "  </tbody>\n",
              "</table>\n",
              "</div>"
            ],
            "text/plain": [
              "        EIN                                      NAME APPLICATION_TYPE  \\\n",
              "0  10520599              BLUE KNIGHTS MOTORCYCLE CLUB              T10   \n",
              "1  10531628    AMERICAN CHESAPEAKE CLUB CHARITABLE TR               T3   \n",
              "2  10547893        ST CLOUD PROFESSIONAL FIREFIGHTERS               T5   \n",
              "3  10553066            SOUTHSIDE ATHLETIC ASSOCIATION               T3   \n",
              "4  10556103  GENETIC RESEARCH INSTITUTE OF THE DESERT               T3   \n",
              "\n",
              "        AFFILIATION CLASSIFICATION      USE_CASE  ORGANIZATION  STATUS  \\\n",
              "0       Independent          C1000    ProductDev   Association       1   \n",
              "1       Independent          C2000  Preservation  Co-operative       1   \n",
              "2  CompanySponsored          C3000    ProductDev   Association       1   \n",
              "3  CompanySponsored          C2000  Preservation         Trust       1   \n",
              "4       Independent          C1000     Heathcare         Trust       1   \n",
              "\n",
              "      INCOME_AMT SPECIAL_CONSIDERATIONS  ASK_AMT  IS_SUCCESSFUL  \n",
              "0              0                      N     5000              1  \n",
              "1         1-9999                      N   108590              1  \n",
              "2              0                      N     5000              0  \n",
              "3    10000-24999                      N     6692              1  \n",
              "4  100000-499999                      N   142590              1  "
            ]
          },
          "execution_count": 76,
          "metadata": {},
          "output_type": "execute_result"
        }
      ],
      "source": [
        "# Import our dependencies\n",
        "# !pip install keras_tuner\n",
        "from sklearn.model_selection import train_test_split\n",
        "from sklearn.preprocessing import StandardScaler\n",
        "import pandas as pd\n",
        "import tensorflow as tf\n",
        "import matplotlib.pyplot as plt\n",
        "import numpy as np\n",
        "from scipy import stats\n",
        "import keras_tuner as kt\n",
        "import datetime\n",
        "import shutil\n",
        "\n",
        "\n",
        "#  Import and read the charity_data.csv.\n",
        "import pandas as pd\n",
        "application_df = pd.read_csv(\"https://static.bc-edx.com/data/dl-1-2/m21/lms/starter/charity_data.csv\")\n",
        "final_results_all = []\n",
        "application_df.head()"
      ]
    },
    {
      "cell_type": "code",
      "execution_count": 2,
      "metadata": {
        "colab": {
          "base_uri": "https://localhost:8080/",
          "height": 478
        },
        "id": "Ykh-flvlF7f8",
        "outputId": "6e7630de-5a68-4abd-99b2-28170c45f16e"
      },
      "outputs": [
        {
          "data": {
            "text/html": [
              "<div>\n",
              "<style scoped>\n",
              "    .dataframe tbody tr th:only-of-type {\n",
              "        vertical-align: middle;\n",
              "    }\n",
              "\n",
              "    .dataframe tbody tr th {\n",
              "        vertical-align: top;\n",
              "    }\n",
              "\n",
              "    .dataframe thead th {\n",
              "        text-align: right;\n",
              "    }\n",
              "</style>\n",
              "<table border=\"1\" class=\"dataframe\">\n",
              "  <thead>\n",
              "    <tr style=\"text-align: right;\">\n",
              "      <th></th>\n",
              "      <th>APPLICATION_TYPE</th>\n",
              "      <th>AFFILIATION</th>\n",
              "      <th>CLASSIFICATION</th>\n",
              "      <th>USE_CASE</th>\n",
              "      <th>ORGANIZATION</th>\n",
              "      <th>STATUS</th>\n",
              "      <th>INCOME_AMT</th>\n",
              "      <th>SPECIAL_CONSIDERATIONS</th>\n",
              "      <th>ASK_AMT</th>\n",
              "      <th>IS_SUCCESSFUL</th>\n",
              "    </tr>\n",
              "  </thead>\n",
              "  <tbody>\n",
              "    <tr>\n",
              "      <th>0</th>\n",
              "      <td>T10</td>\n",
              "      <td>Independent</td>\n",
              "      <td>C1000</td>\n",
              "      <td>ProductDev</td>\n",
              "      <td>Association</td>\n",
              "      <td>1</td>\n",
              "      <td>0</td>\n",
              "      <td>N</td>\n",
              "      <td>5000</td>\n",
              "      <td>1</td>\n",
              "    </tr>\n",
              "    <tr>\n",
              "      <th>1</th>\n",
              "      <td>T3</td>\n",
              "      <td>Independent</td>\n",
              "      <td>C2000</td>\n",
              "      <td>Preservation</td>\n",
              "      <td>Co-operative</td>\n",
              "      <td>1</td>\n",
              "      <td>1-9999</td>\n",
              "      <td>N</td>\n",
              "      <td>108590</td>\n",
              "      <td>1</td>\n",
              "    </tr>\n",
              "    <tr>\n",
              "      <th>2</th>\n",
              "      <td>T5</td>\n",
              "      <td>CompanySponsored</td>\n",
              "      <td>C3000</td>\n",
              "      <td>ProductDev</td>\n",
              "      <td>Association</td>\n",
              "      <td>1</td>\n",
              "      <td>0</td>\n",
              "      <td>N</td>\n",
              "      <td>5000</td>\n",
              "      <td>0</td>\n",
              "    </tr>\n",
              "    <tr>\n",
              "      <th>3</th>\n",
              "      <td>T3</td>\n",
              "      <td>CompanySponsored</td>\n",
              "      <td>C2000</td>\n",
              "      <td>Preservation</td>\n",
              "      <td>Trust</td>\n",
              "      <td>1</td>\n",
              "      <td>10000-24999</td>\n",
              "      <td>N</td>\n",
              "      <td>6692</td>\n",
              "      <td>1</td>\n",
              "    </tr>\n",
              "    <tr>\n",
              "      <th>4</th>\n",
              "      <td>T3</td>\n",
              "      <td>Independent</td>\n",
              "      <td>C1000</td>\n",
              "      <td>Heathcare</td>\n",
              "      <td>Trust</td>\n",
              "      <td>1</td>\n",
              "      <td>100000-499999</td>\n",
              "      <td>N</td>\n",
              "      <td>142590</td>\n",
              "      <td>1</td>\n",
              "    </tr>\n",
              "    <tr>\n",
              "      <th>...</th>\n",
              "      <td>...</td>\n",
              "      <td>...</td>\n",
              "      <td>...</td>\n",
              "      <td>...</td>\n",
              "      <td>...</td>\n",
              "      <td>...</td>\n",
              "      <td>...</td>\n",
              "      <td>...</td>\n",
              "      <td>...</td>\n",
              "      <td>...</td>\n",
              "    </tr>\n",
              "    <tr>\n",
              "      <th>34294</th>\n",
              "      <td>T4</td>\n",
              "      <td>Independent</td>\n",
              "      <td>C1000</td>\n",
              "      <td>ProductDev</td>\n",
              "      <td>Association</td>\n",
              "      <td>1</td>\n",
              "      <td>0</td>\n",
              "      <td>N</td>\n",
              "      <td>5000</td>\n",
              "      <td>0</td>\n",
              "    </tr>\n",
              "    <tr>\n",
              "      <th>34295</th>\n",
              "      <td>T4</td>\n",
              "      <td>CompanySponsored</td>\n",
              "      <td>C3000</td>\n",
              "      <td>ProductDev</td>\n",
              "      <td>Association</td>\n",
              "      <td>1</td>\n",
              "      <td>0</td>\n",
              "      <td>N</td>\n",
              "      <td>5000</td>\n",
              "      <td>0</td>\n",
              "    </tr>\n",
              "    <tr>\n",
              "      <th>34296</th>\n",
              "      <td>T3</td>\n",
              "      <td>CompanySponsored</td>\n",
              "      <td>C2000</td>\n",
              "      <td>Preservation</td>\n",
              "      <td>Association</td>\n",
              "      <td>1</td>\n",
              "      <td>0</td>\n",
              "      <td>N</td>\n",
              "      <td>5000</td>\n",
              "      <td>0</td>\n",
              "    </tr>\n",
              "    <tr>\n",
              "      <th>34297</th>\n",
              "      <td>T5</td>\n",
              "      <td>Independent</td>\n",
              "      <td>C3000</td>\n",
              "      <td>ProductDev</td>\n",
              "      <td>Association</td>\n",
              "      <td>1</td>\n",
              "      <td>0</td>\n",
              "      <td>N</td>\n",
              "      <td>5000</td>\n",
              "      <td>1</td>\n",
              "    </tr>\n",
              "    <tr>\n",
              "      <th>34298</th>\n",
              "      <td>T3</td>\n",
              "      <td>Independent</td>\n",
              "      <td>C1000</td>\n",
              "      <td>Preservation</td>\n",
              "      <td>Co-operative</td>\n",
              "      <td>1</td>\n",
              "      <td>1M-5M</td>\n",
              "      <td>N</td>\n",
              "      <td>36500179</td>\n",
              "      <td>0</td>\n",
              "    </tr>\n",
              "  </tbody>\n",
              "</table>\n",
              "<p>34299 rows × 10 columns</p>\n",
              "</div>"
            ],
            "text/plain": [
              "      APPLICATION_TYPE       AFFILIATION CLASSIFICATION      USE_CASE  \\\n",
              "0                  T10       Independent          C1000    ProductDev   \n",
              "1                   T3       Independent          C2000  Preservation   \n",
              "2                   T5  CompanySponsored          C3000    ProductDev   \n",
              "3                   T3  CompanySponsored          C2000  Preservation   \n",
              "4                   T3       Independent          C1000     Heathcare   \n",
              "...                ...               ...            ...           ...   \n",
              "34294               T4       Independent          C1000    ProductDev   \n",
              "34295               T4  CompanySponsored          C3000    ProductDev   \n",
              "34296               T3  CompanySponsored          C2000  Preservation   \n",
              "34297               T5       Independent          C3000    ProductDev   \n",
              "34298               T3       Independent          C1000  Preservation   \n",
              "\n",
              "       ORGANIZATION  STATUS     INCOME_AMT SPECIAL_CONSIDERATIONS   ASK_AMT  \\\n",
              "0       Association       1              0                      N      5000   \n",
              "1      Co-operative       1         1-9999                      N    108590   \n",
              "2       Association       1              0                      N      5000   \n",
              "3             Trust       1    10000-24999                      N      6692   \n",
              "4             Trust       1  100000-499999                      N    142590   \n",
              "...             ...     ...            ...                    ...       ...   \n",
              "34294   Association       1              0                      N      5000   \n",
              "34295   Association       1              0                      N      5000   \n",
              "34296   Association       1              0                      N      5000   \n",
              "34297   Association       1              0                      N      5000   \n",
              "34298  Co-operative       1          1M-5M                      N  36500179   \n",
              "\n",
              "       IS_SUCCESSFUL  \n",
              "0                  1  \n",
              "1                  1  \n",
              "2                  0  \n",
              "3                  1  \n",
              "4                  1  \n",
              "...              ...  \n",
              "34294              0  \n",
              "34295              0  \n",
              "34296              0  \n",
              "34297              1  \n",
              "34298              0  \n",
              "\n",
              "[34299 rows x 10 columns]"
            ]
          },
          "execution_count": 2,
          "metadata": {},
          "output_type": "execute_result"
        }
      ],
      "source": [
        "# Drop the non-beneficial ID columns, 'EIN' and 'NAME'.\n",
        "a1pplication_df = application_df.drop(columns=['EIN', 'NAME'])\n",
        "a1pplication_df"
      ]
    },
    {
      "cell_type": "code",
      "execution_count": 28,
      "metadata": {
        "id": "vI4rDbeEF7f8"
      },
      "outputs": [],
      "source": [
        "def otherize_column(df, column, list_of_values_to_replace):\n",
        "    df_copy = df.copy()\n",
        "\n",
        "\n",
        "    # Replace in dataframe\n",
        "    for app in list_of_values_to_replace:\n",
        "        df_copy[column] = df_copy[column].replace(app,\"Other\")\n",
        "\n",
        "    # Check to make sure binning was successful\n",
        "    # print(df_copy[column].value_counts())\n",
        "\n",
        "    return df_copy"
      ]
    },
    {
      "cell_type": "code",
      "execution_count": 29,
      "metadata": {
        "id": "E52Rb47fF7f8"
      },
      "outputs": [],
      "source": [
        "def otherizations(df, list_of_columns_to_otherize, list_of_list_of_values_to_replace):\n",
        "    for index in range(len(list_of_columns_to_otherize)):\n",
        "        df = otherize_column(df, list_of_columns_to_otherize[index], list_of_list_of_values_to_replace[index])\n",
        "\n",
        "    return df"
      ]
    },
    {
      "cell_type": "code",
      "execution_count": 40,
      "metadata": {
        "id": "Pibqs8NdF7f8"
      },
      "outputs": [],
      "source": [
        "# Create a method that creates a new Sequential model with hyperparameter options\n",
        "def create_model(hp):\n",
        "    nn_model = tf.keras.models.Sequential()\n",
        "\n",
        "\n",
        "    # number of layers including input layer but excluding output layer\n",
        "    num_layers = hp.Int('num_layers', 1, 6)\n",
        "\n",
        "    activation = hp.Choice('activation_layer_input', ['relu', 'tanh', 'leaky_relu'])\n",
        "\n",
        "    #  Allow kerastuner to decide which activation function to use in hidden layers\n",
        "    if activation == 'relu':\n",
        "        nn_model.add(tf.keras.layers.Dense(units=hp.Int('neurons_layer_input', min_value=X.shape[1], max_value=round(X.shape[1] * 2), step=5), activation='relu', input_dim=X.shape[1]))\n",
        "    elif activation == 'tanh':\n",
        "        nn_model.add(tf.keras.layers.Dense(units=hp.Int('neurons_layer_input', min_value=X.shape[1], max_value=round(X.shape[1] * 2), step=5), activation='tanh', input_dim=X.shape[1]))\n",
        "    elif activation == 'leaky_relu':\n",
        "        activation = tf.keras.layers.LeakyReLU(alpha=0.01)\n",
        "        nn_model.add(tf.keras.layers.Dense(units=hp.Int('neurons_layer_input', min_value=X.shape[1], max_value=round(X.shape[1] * 2), step=5), activation=tf.keras.layers.LeakyReLU(alpha=0.01), input_dim=X.shape[1]))\n",
        "\n",
        "\n",
        "    # Allow kerastuner to decide number of hidden layers and neurons in hidden layers\n",
        "    for i in range(1, num_layers):\n",
        "\n",
        "        activation = hp.Choice(f'activation_layer_{i}', ['relu', 'leaky_relu'])\n",
        "\n",
        "        #  Allow kerastuner to decide which activation function to use in hidden layers\n",
        "        if activation == 'leaky_relu':\n",
        "            activation = tf.keras.layers.LeakyReLU(alpha=0.01)\n",
        "        nn_model.add(tf.keras.layers.Dense(units=hp.Int(f'neurons_layer_{i}',\n",
        "            min_value=2,\n",
        "            max_value=round(X.shape[1] * 2),\n",
        "            step=1),\n",
        "            activation=activation))\n",
        "\n",
        "    nn_model.add(tf.keras.layers.Dense(units=1, activation=\"sigmoid\"))\n",
        "\n",
        "    # hp.Choice('random_seed2', [str(np.random.get_state())])\n",
        "    # Compile the model\n",
        "    nn_model.compile(loss=\"binary_crossentropy\", optimizer='adam', metrics=[\"accuracy\"])\n",
        "\n",
        "    return nn_model"
      ]
    },
    {
      "cell_type": "code",
      "execution_count": 31,
      "metadata": {
        "id": "iMr4UfWSF7f9"
      },
      "outputs": [],
      "source": [
        "def remove_outliers(df, threshold):\n",
        "    # Calculate Z-scores for each column using scipy.stats.zscore\n",
        "    z_scores = np.abs(stats.zscore(df))\n",
        "\n",
        "    # Identify outliers using boolean masks\n",
        "    outliers = (z_scores > threshold)\n",
        "\n",
        "    # Print the rows with outliers\n",
        "    outlier_rows = df[outliers.any(axis=1)]\n",
        "\n",
        "    # print(outlier_rows)\n",
        "    print(outlier_rows.index)\n",
        "    return (outlier_rows, df[~outliers.any(axis=1)])"
      ]
    },
    {
      "cell_type": "code",
      "execution_count": 32,
      "metadata": {
        "id": "JAEOaI6PF7f9"
      },
      "outputs": [],
      "source": [
        "def extract_X_y(df, y_column_name):\n",
        "    # Split our preprocessed data into our features and target arrays\n",
        "    # print(a2pplication_df.columns)\n",
        "    X = df.drop(columns=[y_column_name])\n",
        "    y = df[y_column_name]\n",
        "    return (X, y)"
      ]
    },
    {
      "cell_type": "code",
      "execution_count": 33,
      "metadata": {
        "id": "JXQeBESZF7f9"
      },
      "outputs": [],
      "source": [
        "def create_specific_model(activation, num_layers, num_nodes_input_layer, list_of_number_of_nodes_hidden_layer, input_dim, output_activation):\n",
        "\n",
        "    nn = tf.keras.models.Sequential()\n",
        "\n",
        "    if activation == 'leaky_relu':\n",
        "        activation = tf.keras.layers.LeakyReLU(alpha=0.01)\n",
        "\n",
        "    # First hidden layer\n",
        "    nn.add(tf.keras.layers.Dense(units = num_nodes_input_layer, activation = activation, input_dim = input_dim))\n",
        "\n",
        "    for hidden_layer_num in range(0, num_layers):\n",
        "        nn.add(tf.keras.layers.Dense(units = list_of_number_of_nodes_hidden_layer[hidden_layer_num], activation = activation))\n",
        "\n",
        "    # Output layer\n",
        "    nn.add(tf.keras.layers.Dense(units = 1, activation = output_activation))\n",
        "\n",
        "\n",
        "    # Check the structure of the model\n",
        "    print(nn.summary())\n",
        "    return nn"
      ]
    },
    {
      "cell_type": "code",
      "execution_count": 34,
      "metadata": {
        "id": "SY_onn4bF7f9"
      },
      "outputs": [],
      "source": [
        "def scale_it(X_train, X_test):\n",
        "    # Create a StandardScaler instances\n",
        "    scaler = StandardScaler()\n",
        "\n",
        "    # Fit the StandardScaler\n",
        "    X_scaler = scaler.fit(X_train)\n",
        "\n",
        "    # Scale the data\n",
        "    X_train_scaled = X_scaler.transform(X_train)\n",
        "    X_test_scaled = X_scaler.transform(X_test)\n",
        "\n",
        "    return X_train_scaled, X_test_scaled"
      ]
    },
    {
      "cell_type": "code",
      "execution_count": 35,
      "metadata": {
        "id": "6n9PxwhVF7f9"
      },
      "outputs": [],
      "source": [
        "def delete_directory_and_its_content(directory_name):\n",
        "\n",
        "    # Use shutil.rmtree() to recursively delete directories and subdirectories\n",
        "    try:\n",
        "        shutil.rmtree(directory_name)\n",
        "        print(f\"Directory '{directory_name}' has been deleted successfully.\")\n",
        "    except OSError as e:\n",
        "        print(f\"Error: {e}\")"
      ]
    },
    {
      "cell_type": "code",
      "execution_count": 36,
      "metadata": {
        "id": "8eWBuYDeF7f-"
      },
      "outputs": [],
      "source": [
        "class RandomSeedLogger(tf.keras.callbacks.Callback):\n",
        "    def on_train_begin(self, logs=None):\n",
        "        # Access the TensorFlow random seed and log it\n",
        "        random_seed = tf.random.get_seed()\n",
        "        print(f\"Random Seed: {random_seed}\")\n",
        "\n",
        "# Create an instance of the custom callback\n",
        "random_seed_logger = RandomSeedLogger()"
      ]
    },
    {
      "cell_type": "code",
      "execution_count": 37,
      "metadata": {
        "id": "34N7-lnCF7f_"
      },
      "outputs": [],
      "source": [
        "def otherizer2(df, column, starting_from_least_column):\n",
        "    to_replace = [df[column].value_counts().index[starting_from_least_column:]]\n",
        "    # print(f'len(df[column].value_counts().index): {len(df[column].value_counts().index.tolist())}')\n",
        "    print(f'len(to_replace): {len(to_replace[0].tolist())}')\n",
        "    # print(f'to_replace: {to_replace}')\n",
        "    # Replace in dataframe\n",
        "    for cls in to_replace:\n",
        "        df[column] = df[column].replace(cls,\"Other\")\n",
        "\n",
        "    # print(f'len(df[column].value_counts().index): {len(df[column].value_counts().index.tolist())}')\n",
        "    return df"
      ]
    },
    {
      "cell_type": "code",
      "execution_count": 42,
      "metadata": {
        "id": "6vvT7PYxF7f_"
      },
      "outputs": [],
      "source": [
        "\n",
        "def optimization2(optimization_title, df, columns, start, finish, step, reset_df):\n",
        "    if reset_df:\n",
        "        df = application_df.drop(columns=['EIN', 'NAME'])\n",
        "    for column in columns:\n",
        "        if len(df[column].value_counts()) > 5:\n",
        "            print(f'start: {start}')\n",
        "            for starting_from_least_column in range(start, finish, step):\n",
        "                if reset_df:\n",
        "                    df = application_df.drop(columns=['EIN', 'NAME'])\n",
        "\n",
        "                print(f'start: {start}')\n",
        "                print(f'starting_from_least_column: {starting_from_least_column}')\n",
        "                print(f'len(df[column].value_counts().index): {len(df[column].value_counts().index.tolist())}')\n",
        "                df = otherizer2(df, column, starting_from_least_column)\n",
        "                print(f'len(df[column].value_counts().index): {len(df[column].value_counts().index.tolist())}')\n",
        "                run_hyperparameters(optimization_title + f': otherize columns from {starting_from_least_column}', df, 8, 9, '', 20)"
      ]
    },
    {
      "cell_type": "code",
      "execution_count": 82,
      "metadata": {
        "id": "K1nAj5A7F7f-"
      },
      "outputs": [],
      "source": [
        "def run_hyperparameters(optimization_title, df_new, begin_threshold, end_threshold, column_to_remove, max_epochs):\n",
        "    global X, y, final_results_all, X_train, X_test, y_train, y_test, X_train_scaled, X_test_scaled\n",
        "\n",
        "    if column_to_remove in df_new.columns:\n",
        "        df_new_removed_column = df_new.drop(columns=[column_to_remove])\n",
        "    else:\n",
        "        df_new_removed_column = df_new\n",
        "\n",
        "\n",
        "    df_new_removed_column = pd.get_dummies(df_new_removed_column)\n",
        "    # return df_new_removed_column\n",
        "    # print('number of columns', len(df_new_removed_column.columns))\n",
        "    # return\n",
        "    for z_threshold in range(begin_threshold, end_threshold):\n",
        "\n",
        "        np.random.seed(42)\n",
        "        tf.random.set_seed(42)\n",
        "        outlier_rows, no_outliers_df = remove_outliers(df_new_removed_column, z_threshold)\n",
        "        # print('number of columns', len(df_new_removed_column.columns))\n",
        "        # return\n",
        "\n",
        "        # Split our preprocessed data into our features and target array\n",
        "        X, y = extract_X_y(no_outliers_df, 'IS_SUCCESSFUL')\n",
        "\n",
        "        # Split the preprocessed data into a training and testing dataset\n",
        "        X_train, X_test, y_train, y_test = train_test_split(X,\n",
        "                                                            y,\n",
        "                                                            random_state=3,\n",
        "                                                            stratify=y)\n",
        "\n",
        "        # Standardize X_train and X_test\n",
        "        X_train_scaled, X_test_scaled = scale_it(X_train, X_test)\n",
        "\n",
        "        delete_directory_and_its_content('./untitled_project/')\n",
        "        dict_results = {}\n",
        "        dict_results['Optimization Title'] = optimization_title\n",
        "        dict_results['columns'] = df_new_removed_column.columns\n",
        "        dict_results['removed column'] = column_to_remove\n",
        "        dict_results['z_threshold'] = z_threshold\n",
        "        dict_results['number of outlier rows'] = outlier_rows.shape[0]\n",
        "        dict_results['number of rows'] = no_outliers_df.shape[0]\n",
        "        dict_results['max_epoch'] = max_epochs\n",
        "\n",
        "        checkpoint_callback = tf.keras.callbacks.ModelCheckpoint(\n",
        "            filepath = 'model_weights_epoch_{epoch:02d}.h5',\n",
        "            save_weights_only = True,\n",
        "            period = 1\n",
        "        )\n",
        "\n",
        "        tuner = kt.Hyperband(\n",
        "            create_model,\n",
        "            objective=\"val_accuracy\",\n",
        "            max_epochs=max_epochs,\n",
        "            hyperband_iterations=2,\n",
        "            seed=1)#,\n",
        "            #callbacks=[checkpoint_callback])\n",
        "\n",
        "        # Run the kerastuner search for best hyperparameters\n",
        "        tuner.search(X_train_scaled,y_train,epochs=20,validation_data=(X_test_scaled,y_test))\n",
        "        dict_results['param'] = tuner.get_best_hyperparameters(1)[0].values\n",
        "        first_model = tuner.get_best_models(num_models=1)[0]\n",
        "        timestamp = datetime.datetime.now().strftime(\"%Y%m%d-%H%M%S\")\n",
        "        model_loss, model_accuracy = first_model.evaluate(X_test_scaled,y_test,verbose=2)\n",
        "        first_model.save_weights(f'model_weights_{timestamp}_{int(model_accuracy*100)}.h5')\n",
        "        dict_results['number of columns'] = len(df_new_removed_column.columns)\n",
        "        dict_results['model_accuracy'] = model_accuracy\n",
        "        dict_results['hyperband seed'] = 1\n",
        "        dict_results['np.rand.seed and tf.random.set_seed'] = 42\n",
        "        final_results_all.append(dict_results)\n",
        "        file_path = \"optimization_results.txt\"\n",
        "\n",
        "        # Open the file in append mode\n",
        "        with open(file_path, \"a\") as file:\n",
        "            # Append a line to the file\n",
        "            # line_to_append = \"This is a new line to append to the file.\"\n",
        "            file.write(str(dict_results) + \"\\n\")\n",
        "    print(final_results_all)"
      ]
    },
    {
      "cell_type": "code",
      "execution_count": 17,
      "metadata": {
        "colab": {
          "base_uri": "https://localhost:8080/",
          "height": 467
        },
        "id": "WIfqSikIF7gA",
        "outputId": "d5179f02-8025-4a12-bfd5-c33001ca4703"
      },
      "outputs": [
        {
          "name": "stdout",
          "output_type": "stream",
          "text": [
            "10\n",
            "start: 21\n",
            "start: 21\n",
            "starting_from_least_column: 21\n",
            "len(df[column].value_counts().index): 71\n",
            "len(to_replace): 50\n",
            "len(df[column].value_counts().index): 22\n"
          ]
        },
        {
          "ename": "NameError",
          "evalue": "ignored",
          "output_type": "error",
          "traceback": [
            "\u001b[0;31m---------------------------------------------------------------------------\u001b[0m",
            "\u001b[0;31mNameError\u001b[0m                                 Traceback (most recent call last)",
            "\u001b[0;32m<ipython-input-17-66c9bdc40e0c>\u001b[0m in \u001b[0;36m<cell line: 6>\u001b[0;34m()\u001b[0m\n\u001b[1;32m      4\u001b[0m \u001b[0mstep\u001b[0m \u001b[0;34m=\u001b[0m \u001b[0;36m1\u001b[0m\u001b[0;34m\u001b[0m\u001b[0;34m\u001b[0m\u001b[0m\n\u001b[1;32m      5\u001b[0m \u001b[0mprint\u001b[0m\u001b[0;34m(\u001b[0m\u001b[0mlen\u001b[0m\u001b[0;34m(\u001b[0m\u001b[0ma1pplication_df\u001b[0m\u001b[0;34m.\u001b[0m\u001b[0mcolumns\u001b[0m\u001b[0;34m)\u001b[0m\u001b[0;34m)\u001b[0m\u001b[0;34m\u001b[0m\u001b[0;34m\u001b[0m\u001b[0m\n\u001b[0;32m----> 6\u001b[0;31m \u001b[0moptimization2\u001b[0m\u001b[0;34m(\u001b[0m\u001b[0;34m'increase number of epochs from 20 to 100, increase maximum number of layers from 6 to 11 (includes input layer but not output)'\u001b[0m\u001b[0;34m,\u001b[0m \u001b[0ma1pplication_df\u001b[0m\u001b[0;34m,\u001b[0m \u001b[0;34m[\u001b[0m\u001b[0;34m'CLASSIFICATION'\u001b[0m\u001b[0;34m]\u001b[0m\u001b[0;34m,\u001b[0m \u001b[0mstart\u001b[0m\u001b[0;34m,\u001b[0m \u001b[0mend\u001b[0m\u001b[0;34m,\u001b[0m \u001b[0mstep\u001b[0m\u001b[0;34m,\u001b[0m \u001b[0;32mTrue\u001b[0m\u001b[0;34m)\u001b[0m\u001b[0;34m\u001b[0m\u001b[0;34m\u001b[0m\u001b[0m\n\u001b[0m",
            "\u001b[0;32m<ipython-input-15-a86c1d5e97ac>\u001b[0m in \u001b[0;36moptimization2\u001b[0;34m(optimization_title, df, columns, start, finish, step, reset_df)\u001b[0m\n\u001b[1;32m     14\u001b[0m                 \u001b[0mdf\u001b[0m \u001b[0;34m=\u001b[0m \u001b[0motherizer2\u001b[0m\u001b[0;34m(\u001b[0m\u001b[0mdf\u001b[0m\u001b[0;34m,\u001b[0m \u001b[0mcolumn\u001b[0m\u001b[0;34m,\u001b[0m \u001b[0mstarting_from_least_column\u001b[0m\u001b[0;34m)\u001b[0m\u001b[0;34m\u001b[0m\u001b[0;34m\u001b[0m\u001b[0m\n\u001b[1;32m     15\u001b[0m                 \u001b[0mprint\u001b[0m\u001b[0;34m(\u001b[0m\u001b[0;34mf'len(df[column].value_counts().index): {len(df[column].value_counts().index.tolist())}'\u001b[0m\u001b[0;34m)\u001b[0m\u001b[0;34m\u001b[0m\u001b[0;34m\u001b[0m\u001b[0m\n\u001b[0;32m---> 16\u001b[0;31m                 \u001b[0mrun_hyperparameters\u001b[0m\u001b[0;34m(\u001b[0m\u001b[0moptimization_title\u001b[0m \u001b[0;34m+\u001b[0m \u001b[0;34mf': otherize columns from {starting_from_least_column}'\u001b[0m\u001b[0;34m,\u001b[0m \u001b[0mdf\u001b[0m\u001b[0;34m,\u001b[0m \u001b[0;36m8\u001b[0m\u001b[0;34m,\u001b[0m \u001b[0;36m9\u001b[0m\u001b[0;34m,\u001b[0m \u001b[0;34m''\u001b[0m\u001b[0;34m,\u001b[0m \u001b[0mlist_of_columns_to_otherize\u001b[0m\u001b[0;34m,\u001b[0m \u001b[0mlist_of_list_of_values_to_replace\u001b[0m\u001b[0;34m)\u001b[0m\u001b[0;34m\u001b[0m\u001b[0;34m\u001b[0m\u001b[0m\n\u001b[0m",
            "\u001b[0;31mNameError\u001b[0m: name 'list_of_columns_to_otherize' is not defined"
          ]
        }
      ],
      "source": [
        "\n",
        "# a1pplication_df\n",
        "start = 21\n",
        "end = 22\n",
        "step = 1\n",
        "print(len(a1pplication_df.columns))\n",
        "optimization2('increase number of epochs from 20 to 100, increase maximum number of layers from 6 to 11 (includes input layer but not output)', a1pplication_df, ['CLASSIFICATION'], start, end, step, True)"
      ]
    },
    {
      "cell_type": "code",
      "execution_count": null,
      "metadata": {
        "colab": {
          "base_uri": "https://localhost:8080/"
        },
        "id": "pMyi8LG2Ggux",
        "outputId": "0d80f94a-8001-4277-cd26-7fa781461553"
      },
      "outputs": [
        {
          "name": "stdout",
          "output_type": "stream",
          "text": [
            "Trial 51 Complete [00h 01m 23s]\n",
            "val_accuracy: 0.7227670550346375\n",
            "\n",
            "Best val_accuracy So Far: 0.7228995561599731\n",
            "Total elapsed time: 00h 10m 32s\n",
            "\n",
            "Search: Running Trial #52\n",
            "\n",
            "Value             |Best Value So Far |Hyperparameter\n",
            "2                 |2                 |num_layers\n",
            "leaky_relu        |leaky_relu        |activation_layer_input\n",
            "191               |141               |neurons_layer_input\n",
            "leaky_relu        |relu              |activation_layer_1\n",
            "155               |2                 |neurons_layer_1\n",
            "tanh              |relu              |activation_layer_2\n",
            "37                |92                |neurons_layer_2\n",
            "leaky_relu        |relu              |activation_layer_3\n",
            "5                 |73                |neurons_layer_3\n",
            "leaky_relu        |relu              |activation_layer_4\n",
            "148               |203               |neurons_layer_4\n",
            "leaky_relu        |tanh              |activation_layer_5\n",
            "183               |125               |neurons_layer_5\n",
            "tanh              |relu              |activation_layer_6\n",
            "107               |101               |neurons_layer_6\n",
            "relu              |tanh              |activation_layer_7\n",
            "108               |143               |neurons_layer_7\n",
            "relu              |relu              |activation_layer_8\n",
            "132               |85                |neurons_layer_8\n",
            "leaky_relu        |tanh              |activation_layer_9\n",
            "6                 |31                |neurons_layer_9\n",
            "tanh              |tanh              |activation_layer_10\n",
            "95                |49                |neurons_layer_10\n",
            "30                |10                |tuner/epochs\n",
            "10                |4                 |tuner/initial_epoch\n",
            "3                 |3                 |tuner/bracket\n",
            "3                 |2                 |tuner/round\n",
            "0048              |0037              |tuner/trial_id\n",
            "\n",
            "Epoch 11/30\n",
            "708/708 [==============================] - 3s 4ms/step - loss: 0.5517 - accuracy: 0.7299 - val_loss: 0.5593 - val_accuracy: 0.7226\n",
            "Epoch 12/30\n",
            "708/708 [==============================] - 2s 3ms/step - loss: 0.5517 - accuracy: 0.7313 - val_loss: 0.5576 - val_accuracy: 0.7214\n",
            "Epoch 13/30\n",
            "708/708 [==============================] - 2s 3ms/step - loss: 0.5512 - accuracy: 0.7296 - val_loss: 0.5623 - val_accuracy: 0.7222\n",
            "Epoch 14/30\n",
            "708/708 [==============================] - 3s 4ms/step - loss: 0.5513 - accuracy: 0.7315 - val_loss: 0.5576 - val_accuracy: 0.7214\n",
            "Epoch 15/30\n",
            "708/708 [==============================] - 2s 3ms/step - loss: 0.5505 - accuracy: 0.7305 - val_loss: 0.5577 - val_accuracy: 0.7222\n",
            "Epoch 16/30\n",
            "708/708 [==============================] - 2s 3ms/step - loss: 0.5503 - accuracy: 0.7306 - val_loss: 0.5548 - val_accuracy: 0.7222\n",
            "Epoch 17/30\n",
            "708/708 [==============================] - 2s 3ms/step - loss: 0.5505 - accuracy: 0.7315 - val_loss: 0.5562 - val_accuracy: 0.7216\n",
            "Epoch 18/30\n",
            "694/708 [============================>.] - ETA: 0s - loss: 0.5500 - accuracy: 0.7311"
          ]
        }
      ],
      "source": [
        "start_threshold = 7\n",
        "end_threshold = 11\n",
        "max_epoch = 30\n",
        "df = a1pplication_df.copy()\n",
        "run_hyperparameters('try hyperparameters across thresholds 7 to 11 with max_epoch 30 and 11 possible layers', df, start_threshold, end_threshold, '', 30)"
      ]
    },
    {
      "cell_type": "code",
      "execution_count": 50,
      "metadata": {
        "id": "yYRLcFkyGgIH"
      },
      "outputs": [
        {
          "data": {
            "text/html": [
              "<div>\n",
              "<style scoped>\n",
              "    .dataframe tbody tr th:only-of-type {\n",
              "        vertical-align: middle;\n",
              "    }\n",
              "\n",
              "    .dataframe tbody tr th {\n",
              "        vertical-align: top;\n",
              "    }\n",
              "\n",
              "    .dataframe thead th {\n",
              "        text-align: right;\n",
              "    }\n",
              "</style>\n",
              "<table border=\"1\" class=\"dataframe\">\n",
              "  <thead>\n",
              "    <tr style=\"text-align: right;\">\n",
              "      <th></th>\n",
              "      <th>IS_SUCCESSFUL</th>\n",
              "    </tr>\n",
              "    <tr>\n",
              "      <th>CLASSIFICATION</th>\n",
              "      <th></th>\n",
              "    </tr>\n",
              "  </thead>\n",
              "  <tbody>\n",
              "    <tr>\n",
              "      <th>C5200</th>\n",
              "      <td>0.0</td>\n",
              "    </tr>\n",
              "    <tr>\n",
              "      <th>C6100</th>\n",
              "      <td>0.0</td>\n",
              "    </tr>\n",
              "    <tr>\n",
              "      <th>C2600</th>\n",
              "      <td>0.0</td>\n",
              "    </tr>\n",
              "    <tr>\n",
              "      <th>C1732</th>\n",
              "      <td>0.0</td>\n",
              "    </tr>\n",
              "    <tr>\n",
              "      <th>C1820</th>\n",
              "      <td>0.0</td>\n",
              "    </tr>\n",
              "    <tr>\n",
              "      <th>...</th>\n",
              "      <td>...</td>\n",
              "    </tr>\n",
              "    <tr>\n",
              "      <th>C2150</th>\n",
              "      <td>1.0</td>\n",
              "    </tr>\n",
              "    <tr>\n",
              "      <th>C2170</th>\n",
              "      <td>1.0</td>\n",
              "    </tr>\n",
              "    <tr>\n",
              "      <th>C2500</th>\n",
              "      <td>1.0</td>\n",
              "    </tr>\n",
              "    <tr>\n",
              "      <th>C1283</th>\n",
              "      <td>1.0</td>\n",
              "    </tr>\n",
              "    <tr>\n",
              "      <th>C8210</th>\n",
              "      <td>1.0</td>\n",
              "    </tr>\n",
              "  </tbody>\n",
              "</table>\n",
              "<p>71 rows × 1 columns</p>\n",
              "</div>"
            ],
            "text/plain": [
              "                IS_SUCCESSFUL\n",
              "CLASSIFICATION               \n",
              "C5200                     0.0\n",
              "C6100                     0.0\n",
              "C2600                     0.0\n",
              "C1732                     0.0\n",
              "C1820                     0.0\n",
              "...                       ...\n",
              "C2150                     1.0\n",
              "C2170                     1.0\n",
              "C2500                     1.0\n",
              "C1283                     1.0\n",
              "C8210                     1.0\n",
              "\n",
              "[71 rows x 1 columns]"
            ]
          },
          "execution_count": 50,
          "metadata": {},
          "output_type": "execute_result"
        }
      ],
      "source": [
        "groupby_classification = a1pplication_df[['CLASSIFICATION', 'IS_SUCCESSFUL']].groupby('CLASSIFICATION').mean().sort_values('IS_SUCCESSFUL')\n",
        "groupby_classification"
      ]
    },
    {
      "cell_type": "code",
      "execution_count": 51,
      "metadata": {},
      "outputs": [
        {
          "data": {
            "text/plain": [
              "[Index(['C5200', 'C6100', 'C2600', 'C1732', 'C1820', 'C1236', 'C2380', 'C2190'], dtype='object', name='CLASSIFICATION')]"
            ]
          },
          "execution_count": 51,
          "metadata": {},
          "output_type": "execute_result"
        }
      ],
      "source": [
        "bucket_0 = [groupby_classification[groupby_classification['IS_SUCCESSFUL'] == 0].index]\n",
        "bucket_0"
      ]
    },
    {
      "cell_type": "code",
      "execution_count": 52,
      "metadata": {},
      "outputs": [
        {
          "name": "stdout",
          "output_type": "stream",
          "text": [
            "C1000    17326\n",
            "C2000     6074\n",
            "C1200     4837\n",
            "C3000     1918\n",
            "C2100     1883\n",
            "         ...  \n",
            "C4120        1\n",
            "C8210        1\n",
            "C2561        1\n",
            "C4500        1\n",
            "C2150        1\n",
            "Name: CLASSIFICATION, Length: 71, dtype: int64\n"
          ]
        },
        {
          "data": {
            "text/plain": [
              "C1000    17326\n",
              "C2000     6074\n",
              "C1200     4837\n",
              "C3000     1918\n",
              "C2100     1883\n",
              "         ...  \n",
              "C4120        1\n",
              "C8210        1\n",
              "C4500        1\n",
              "C2561        1\n",
              "C2150        1\n",
              "Name: CLASSIFICATION, Length: 64, dtype: int64"
            ]
          },
          "execution_count": 52,
          "metadata": {},
          "output_type": "execute_result"
        }
      ],
      "source": [
        "print(a1pplication_df['CLASSIFICATION'].value_counts())\n",
        "a2pplication_df = a1pplication_df.copy()\n",
        "# Replace in dataframe\n",
        "for cls in bucket_0:\n",
        "    a2pplication_df['CLASSIFICATION'] = a1pplication_df['CLASSIFICATION'].replace(cls,\"bucket_0\")\n",
        "\n",
        "# Check to make sure binning was successful\n",
        "a2pplication_df['CLASSIFICATION'].value_counts()"
      ]
    },
    {
      "cell_type": "code",
      "execution_count": 53,
      "metadata": {},
      "outputs": [
        {
          "data": {
            "text/plain": [
              "[Index(['C3700', 'C7210', 'C4120', 'C4200', 'C4500', 'C4100', 'C1900', 'C2561',\n",
              "        'C1234', 'C1235', 'C1245', 'C1246', 'C1248', 'C1256', 'C1257', 'C2570',\n",
              "        'C1278', 'C1370', 'C1570', 'C1580', 'C1728', 'C2150', 'C2170', 'C2500',\n",
              "        'C1283', 'C8210'],\n",
              "       dtype='object', name='CLASSIFICATION')]"
            ]
          },
          "execution_count": 53,
          "metadata": {},
          "output_type": "execute_result"
        }
      ],
      "source": [
        "bucket_1 = [groupby_classification[groupby_classification['IS_SUCCESSFUL'] == 1].index]\n",
        "bucket_1"
      ]
    },
    {
      "cell_type": "code",
      "execution_count": 54,
      "metadata": {},
      "outputs": [
        {
          "name": "stdout",
          "output_type": "stream",
          "text": [
            "C1000    17326\n",
            "C2000     6074\n",
            "C1200     4837\n",
            "C3000     1918\n",
            "C2100     1883\n",
            "         ...  \n",
            "C4120        1\n",
            "C8210        1\n",
            "C4500        1\n",
            "C2561        1\n",
            "C2150        1\n",
            "Name: CLASSIFICATION, Length: 64, dtype: int64\n"
          ]
        },
        {
          "data": {
            "text/plain": [
              "39"
            ]
          },
          "execution_count": 54,
          "metadata": {},
          "output_type": "execute_result"
        }
      ],
      "source": [
        "print(a2pplication_df['CLASSIFICATION'].value_counts())\n",
        "# Replace in dataframe\n",
        "for cls in bucket_1:\n",
        "    a2pplication_df['CLASSIFICATION'] = a2pplication_df['CLASSIFICATION'].replace(cls,\"bucket_1\")\n",
        "\n",
        "# Check to make sure binning was successful\n",
        "a2pplication_df['CLASSIFICATION'].value_counts().count()"
      ]
    },
    {
      "cell_type": "code",
      "execution_count": 55,
      "metadata": {},
      "outputs": [
        {
          "data": {
            "text/html": [
              "<div>\n",
              "<style scoped>\n",
              "    .dataframe tbody tr th:only-of-type {\n",
              "        vertical-align: middle;\n",
              "    }\n",
              "\n",
              "    .dataframe tbody tr th {\n",
              "        vertical-align: top;\n",
              "    }\n",
              "\n",
              "    .dataframe thead th {\n",
              "        text-align: right;\n",
              "    }\n",
              "</style>\n",
              "<table border=\"1\" class=\"dataframe\">\n",
              "  <thead>\n",
              "    <tr style=\"text-align: right;\">\n",
              "      <th></th>\n",
              "      <th>IS_SUCCESSFUL</th>\n",
              "    </tr>\n",
              "    <tr>\n",
              "      <th>CLASSIFICATION</th>\n",
              "      <th></th>\n",
              "    </tr>\n",
              "  </thead>\n",
              "  <tbody>\n",
              "    <tr>\n",
              "      <th>bucket_0</th>\n",
              "      <td>0.000000</td>\n",
              "    </tr>\n",
              "    <tr>\n",
              "      <th>C5000</th>\n",
              "      <td>0.051724</td>\n",
              "    </tr>\n",
              "    <tr>\n",
              "      <th>C8200</th>\n",
              "      <td>0.090909</td>\n",
              "    </tr>\n",
              "    <tr>\n",
              "      <th>C2100</th>\n",
              "      <td>0.226235</td>\n",
              "    </tr>\n",
              "    <tr>\n",
              "      <th>C2300</th>\n",
              "      <td>0.281250</td>\n",
              "    </tr>\n",
              "    <tr>\n",
              "      <th>C1300</th>\n",
              "      <td>0.293103</td>\n",
              "    </tr>\n",
              "    <tr>\n",
              "      <th>C2710</th>\n",
              "      <td>0.333333</td>\n",
              "    </tr>\n",
              "    <tr>\n",
              "      <th>C1200</th>\n",
              "      <td>0.462683</td>\n",
              "    </tr>\n",
              "    <tr>\n",
              "      <th>C3000</th>\n",
              "      <td>0.484880</td>\n",
              "    </tr>\n",
              "    <tr>\n",
              "      <th>C3200</th>\n",
              "      <td>0.500000</td>\n",
              "    </tr>\n",
              "    <tr>\n",
              "      <th>C1267</th>\n",
              "      <td>0.500000</td>\n",
              "    </tr>\n",
              "    <tr>\n",
              "      <th>C2000</th>\n",
              "      <td>0.531939</td>\n",
              "    </tr>\n",
              "    <tr>\n",
              "      <th>C1000</th>\n",
              "      <td>0.563315</td>\n",
              "    </tr>\n",
              "    <tr>\n",
              "      <th>C2800</th>\n",
              "      <td>0.600000</td>\n",
              "    </tr>\n",
              "    <tr>\n",
              "      <th>C1700</th>\n",
              "      <td>0.602787</td>\n",
              "    </tr>\n",
              "    <tr>\n",
              "      <th>C1500</th>\n",
              "      <td>0.625000</td>\n",
              "    </tr>\n",
              "    <tr>\n",
              "      <th>C2400</th>\n",
              "      <td>0.666667</td>\n",
              "    </tr>\n",
              "    <tr>\n",
              "      <th>C0</th>\n",
              "      <td>0.666667</td>\n",
              "    </tr>\n",
              "    <tr>\n",
              "      <th>C1260</th>\n",
              "      <td>0.666667</td>\n",
              "    </tr>\n",
              "    <tr>\n",
              "      <th>C1720</th>\n",
              "      <td>0.666667</td>\n",
              "    </tr>\n",
              "    <tr>\n",
              "      <th>C8000</th>\n",
              "      <td>0.700000</td>\n",
              "    </tr>\n",
              "    <tr>\n",
              "      <th>C1250</th>\n",
              "      <td>0.714286</td>\n",
              "    </tr>\n",
              "    <tr>\n",
              "      <th>C2700</th>\n",
              "      <td>0.759615</td>\n",
              "    </tr>\n",
              "    <tr>\n",
              "      <th>C1270</th>\n",
              "      <td>0.771930</td>\n",
              "    </tr>\n",
              "    <tr>\n",
              "      <th>C1237</th>\n",
              "      <td>0.777778</td>\n",
              "    </tr>\n",
              "    <tr>\n",
              "      <th>C1600</th>\n",
              "      <td>0.800000</td>\n",
              "    </tr>\n",
              "    <tr>\n",
              "      <th>C1280</th>\n",
              "      <td>0.820000</td>\n",
              "    </tr>\n",
              "    <tr>\n",
              "      <th>C1400</th>\n",
              "      <td>0.823529</td>\n",
              "    </tr>\n",
              "    <tr>\n",
              "      <th>C4000</th>\n",
              "      <td>0.829897</td>\n",
              "    </tr>\n",
              "    <tr>\n",
              "      <th>C1240</th>\n",
              "      <td>0.833333</td>\n",
              "    </tr>\n",
              "    <tr>\n",
              "      <th>C1230</th>\n",
              "      <td>0.833333</td>\n",
              "    </tr>\n",
              "    <tr>\n",
              "      <th>C7120</th>\n",
              "      <td>0.833333</td>\n",
              "    </tr>\n",
              "    <tr>\n",
              "      <th>C1800</th>\n",
              "      <td>0.866667</td>\n",
              "    </tr>\n",
              "    <tr>\n",
              "      <th>C6000</th>\n",
              "      <td>0.866667</td>\n",
              "    </tr>\n",
              "    <tr>\n",
              "      <th>C7200</th>\n",
              "      <td>0.875000</td>\n",
              "    </tr>\n",
              "    <tr>\n",
              "      <th>C7000</th>\n",
              "      <td>0.893179</td>\n",
              "    </tr>\n",
              "    <tr>\n",
              "      <th>C1238</th>\n",
              "      <td>0.900000</td>\n",
              "    </tr>\n",
              "    <tr>\n",
              "      <th>C7100</th>\n",
              "      <td>0.906667</td>\n",
              "    </tr>\n",
              "    <tr>\n",
              "      <th>bucket_1</th>\n",
              "      <td>1.000000</td>\n",
              "    </tr>\n",
              "  </tbody>\n",
              "</table>\n",
              "</div>"
            ],
            "text/plain": [
              "                IS_SUCCESSFUL\n",
              "CLASSIFICATION               \n",
              "bucket_0             0.000000\n",
              "C5000                0.051724\n",
              "C8200                0.090909\n",
              "C2100                0.226235\n",
              "C2300                0.281250\n",
              "C1300                0.293103\n",
              "C2710                0.333333\n",
              "C1200                0.462683\n",
              "C3000                0.484880\n",
              "C3200                0.500000\n",
              "C1267                0.500000\n",
              "C2000                0.531939\n",
              "C1000                0.563315\n",
              "C2800                0.600000\n",
              "C1700                0.602787\n",
              "C1500                0.625000\n",
              "C2400                0.666667\n",
              "C0                   0.666667\n",
              "C1260                0.666667\n",
              "C1720                0.666667\n",
              "C8000                0.700000\n",
              "C1250                0.714286\n",
              "C2700                0.759615\n",
              "C1270                0.771930\n",
              "C1237                0.777778\n",
              "C1600                0.800000\n",
              "C1280                0.820000\n",
              "C1400                0.823529\n",
              "C4000                0.829897\n",
              "C1240                0.833333\n",
              "C1230                0.833333\n",
              "C7120                0.833333\n",
              "C1800                0.866667\n",
              "C6000                0.866667\n",
              "C7200                0.875000\n",
              "C7000                0.893179\n",
              "C1238                0.900000\n",
              "C7100                0.906667\n",
              "bucket_1             1.000000"
            ]
          },
          "execution_count": 55,
          "metadata": {},
          "output_type": "execute_result"
        }
      ],
      "source": [
        "g2roupby_classification = a2pplication_df[['CLASSIFICATION', 'IS_SUCCESSFUL']].groupby('CLASSIFICATION').mean().sort_values('IS_SUCCESSFUL')\n",
        "g2roupby_classification"
      ]
    },
    {
      "cell_type": "code",
      "execution_count": 56,
      "metadata": {},
      "outputs": [
        {
          "data": {
            "text/plain": [
              "[Index(['C3200', 'C1267'], dtype='object', name='CLASSIFICATION')]"
            ]
          },
          "execution_count": 56,
          "metadata": {},
          "output_type": "execute_result"
        }
      ],
      "source": [
        "bucket_0_5 = [groupby_classification[groupby_classification['IS_SUCCESSFUL'] == 0.5].index]\n",
        "bucket_0_5"
      ]
    },
    {
      "cell_type": "code",
      "execution_count": 57,
      "metadata": {},
      "outputs": [
        {
          "name": "stdout",
          "output_type": "stream",
          "text": [
            "C1000       17326\n",
            "C2000        6074\n",
            "C1200        4837\n",
            "C3000        1918\n",
            "C2100        1883\n",
            "C7000         777\n",
            "C1700         287\n",
            "C4000         194\n",
            "C5000         116\n",
            "C1270         114\n",
            "C2700         104\n",
            "C2800          95\n",
            "C7100          75\n",
            "bucket_1       61\n",
            "C1300          58\n",
            "C1280          50\n",
            "C1230          36\n",
            "C1400          34\n",
            "C2300          32\n",
            "C7200          32\n",
            "C1240          30\n",
            "C8000          20\n",
            "C7120          18\n",
            "C1500          16\n",
            "C1800          15\n",
            "C6000          15\n",
            "C1250          14\n",
            "C8200          11\n",
            "C1238          10\n",
            "C1237           9\n",
            "bucket_0        8\n",
            "C1720           6\n",
            "C2400           6\n",
            "C1600           5\n",
            "C2710           3\n",
            "C1260           3\n",
            "C0              3\n",
            "C1267           2\n",
            "C3200           2\n",
            "Name: CLASSIFICATION, dtype: int64\n"
          ]
        },
        {
          "data": {
            "text/plain": [
              "38"
            ]
          },
          "execution_count": 57,
          "metadata": {},
          "output_type": "execute_result"
        }
      ],
      "source": [
        "print(a2pplication_df['CLASSIFICATION'].value_counts())\n",
        "# Replace in dataframe\n",
        "for cls in bucket_0_5:\n",
        "    a2pplication_df['CLASSIFICATION'] = a2pplication_df['CLASSIFICATION'].replace(cls,\"bucket_0_5\")\n",
        "\n",
        "# Check to make sure binning was successful\n",
        "a2pplication_df['CLASSIFICATION'].value_counts().count()"
      ]
    },
    {
      "cell_type": "code",
      "execution_count": 58,
      "metadata": {},
      "outputs": [
        {
          "data": {
            "text/plain": [
              "[Index(['C0', 'C1260', 'C1720', 'C2400'], dtype='object', name='CLASSIFICATION')]"
            ]
          },
          "execution_count": 58,
          "metadata": {},
          "output_type": "execute_result"
        }
      ],
      "source": [
        "bucket_0_667 = [groupby_classification[(groupby_classification['IS_SUCCESSFUL'] > 0.66666) & (groupby_classification['IS_SUCCESSFUL'] < 0.6667)].index]\n",
        "bucket_0_667"
      ]
    },
    {
      "cell_type": "code",
      "execution_count": 59,
      "metadata": {},
      "outputs": [
        {
          "name": "stdout",
          "output_type": "stream",
          "text": [
            "C1000         17326\n",
            "C2000          6074\n",
            "C1200          4837\n",
            "C3000          1918\n",
            "C2100          1883\n",
            "C7000           777\n",
            "C1700           287\n",
            "C4000           194\n",
            "C5000           116\n",
            "C1270           114\n",
            "C2700           104\n",
            "C2800            95\n",
            "C7100            75\n",
            "bucket_1         61\n",
            "C1300            58\n",
            "C1280            50\n",
            "C1230            36\n",
            "C1400            34\n",
            "C2300            32\n",
            "C7200            32\n",
            "C1240            30\n",
            "C8000            20\n",
            "C7120            18\n",
            "C1500            16\n",
            "C1800            15\n",
            "C6000            15\n",
            "C1250            14\n",
            "C8200            11\n",
            "C1238            10\n",
            "C1237             9\n",
            "bucket_0          8\n",
            "C1720             6\n",
            "C2400             6\n",
            "C1600             5\n",
            "bucket_0_5        4\n",
            "C2710             3\n",
            "C1260             3\n",
            "C0                3\n",
            "Name: CLASSIFICATION, dtype: int64\n"
          ]
        },
        {
          "data": {
            "text/plain": [
              "35"
            ]
          },
          "execution_count": 59,
          "metadata": {},
          "output_type": "execute_result"
        }
      ],
      "source": [
        "print(a2pplication_df['CLASSIFICATION'].value_counts())\n",
        "# Replace in dataframe\n",
        "for cls in bucket_0_667:\n",
        "    a2pplication_df['CLASSIFICATION'] = a2pplication_df['CLASSIFICATION'].replace(cls,\"bucket_0_667\")\n",
        "\n",
        "# Check to make sure binning was successful\n",
        "a2pplication_df['CLASSIFICATION'].value_counts().count()"
      ]
    },
    {
      "cell_type": "code",
      "execution_count": 60,
      "metadata": {},
      "outputs": [
        {
          "data": {
            "text/plain": [
              "[Index(['C1230', 'C1240', 'C7120'], dtype='object', name='CLASSIFICATION')]"
            ]
          },
          "execution_count": 60,
          "metadata": {},
          "output_type": "execute_result"
        }
      ],
      "source": [
        "bucket_0_83 = [groupby_classification[(groupby_classification['IS_SUCCESSFUL'] > 0.8333) & (groupby_classification['IS_SUCCESSFUL'] < 0.8334)].index]\n",
        "bucket_0_83"
      ]
    },
    {
      "cell_type": "code",
      "execution_count": 61,
      "metadata": {},
      "outputs": [
        {
          "name": "stdout",
          "output_type": "stream",
          "text": [
            "C1000           17326\n",
            "C2000            6074\n",
            "C1200            4837\n",
            "C3000            1918\n",
            "C2100            1883\n",
            "C7000             777\n",
            "C1700             287\n",
            "C4000             194\n",
            "C5000             116\n",
            "C1270             114\n",
            "C2700             104\n",
            "C2800              95\n",
            "C7100              75\n",
            "bucket_1           61\n",
            "C1300              58\n",
            "C1280              50\n",
            "C1230              36\n",
            "C1400              34\n",
            "C7200              32\n",
            "C2300              32\n",
            "C1240              30\n",
            "C8000              20\n",
            "C7120              18\n",
            "bucket_0_667       18\n",
            "C1500              16\n",
            "C1800              15\n",
            "C6000              15\n",
            "C1250              14\n",
            "C8200              11\n",
            "C1238              10\n",
            "C1237               9\n",
            "bucket_0            8\n",
            "C1600               5\n",
            "bucket_0_5          4\n",
            "C2710               3\n",
            "Name: CLASSIFICATION, dtype: int64\n"
          ]
        },
        {
          "data": {
            "text/plain": [
              "33"
            ]
          },
          "execution_count": 61,
          "metadata": {},
          "output_type": "execute_result"
        }
      ],
      "source": [
        "print(a2pplication_df['CLASSIFICATION'].value_counts())\n",
        "# Replace in dataframe\n",
        "for cls in bucket_0_83:\n",
        "    a2pplication_df['CLASSIFICATION'] = a2pplication_df['CLASSIFICATION'].replace(cls,\"bucket_0_83\")\n",
        "\n",
        "# Check to make sure binning was successful\n",
        "a2pplication_df['CLASSIFICATION'].value_counts().count()"
      ]
    },
    {
      "cell_type": "code",
      "execution_count": 62,
      "metadata": {},
      "outputs": [
        {
          "data": {
            "text/plain": [
              "[Index(['C1800', 'C6000'], dtype='object', name='CLASSIFICATION')]"
            ]
          },
          "execution_count": 62,
          "metadata": {},
          "output_type": "execute_result"
        }
      ],
      "source": [
        "bucket_0_8667 = [groupby_classification[(groupby_classification['IS_SUCCESSFUL'] > 0.8666) & (groupby_classification['IS_SUCCESSFUL'] < 0.8667)].index]\n",
        "bucket_0_8667"
      ]
    },
    {
      "cell_type": "code",
      "execution_count": 63,
      "metadata": {},
      "outputs": [
        {
          "name": "stdout",
          "output_type": "stream",
          "text": [
            "C1000           17326\n",
            "C2000            6074\n",
            "C1200            4837\n",
            "C3000            1918\n",
            "C2100            1883\n",
            "C7000             777\n",
            "C1700             287\n",
            "C4000             194\n",
            "C5000             116\n",
            "C1270             114\n",
            "C2700             104\n",
            "C2800              95\n",
            "bucket_0_83        84\n",
            "C7100              75\n",
            "bucket_1           61\n",
            "C1300              58\n",
            "C1280              50\n",
            "C1400              34\n",
            "C7200              32\n",
            "C2300              32\n",
            "C8000              20\n",
            "bucket_0_667       18\n",
            "C1500              16\n",
            "C1800              15\n",
            "C6000              15\n",
            "C1250              14\n",
            "C8200              11\n",
            "C1238              10\n",
            "C1237               9\n",
            "bucket_0            8\n",
            "C1600               5\n",
            "bucket_0_5          4\n",
            "C2710               3\n",
            "Name: CLASSIFICATION, dtype: int64\n"
          ]
        },
        {
          "data": {
            "text/plain": [
              "32"
            ]
          },
          "execution_count": 63,
          "metadata": {},
          "output_type": "execute_result"
        }
      ],
      "source": [
        "print(a2pplication_df['CLASSIFICATION'].value_counts())\n",
        "# Replace in dataframe\n",
        "for cls in bucket_0_8667:\n",
        "    a2pplication_df['CLASSIFICATION'] = a2pplication_df['CLASSIFICATION'].replace(cls,\"bucket_0_8667\")\n",
        "\n",
        "# Check to make sure binning was successful\n",
        "a2pplication_df['CLASSIFICATION'].value_counts().count()"
      ]
    },
    {
      "cell_type": "code",
      "execution_count": 64,
      "metadata": {},
      "outputs": [
        {
          "data": {
            "text/html": [
              "<div>\n",
              "<style scoped>\n",
              "    .dataframe tbody tr th:only-of-type {\n",
              "        vertical-align: middle;\n",
              "    }\n",
              "\n",
              "    .dataframe tbody tr th {\n",
              "        vertical-align: top;\n",
              "    }\n",
              "\n",
              "    .dataframe thead th {\n",
              "        text-align: right;\n",
              "    }\n",
              "</style>\n",
              "<table border=\"1\" class=\"dataframe\">\n",
              "  <thead>\n",
              "    <tr style=\"text-align: right;\">\n",
              "      <th></th>\n",
              "      <th>IS_SUCCESSFUL</th>\n",
              "    </tr>\n",
              "    <tr>\n",
              "      <th>CLASSIFICATION</th>\n",
              "      <th></th>\n",
              "    </tr>\n",
              "  </thead>\n",
              "  <tbody>\n",
              "    <tr>\n",
              "      <th>bucket_0</th>\n",
              "      <td>0.000000</td>\n",
              "    </tr>\n",
              "    <tr>\n",
              "      <th>C5000</th>\n",
              "      <td>0.051724</td>\n",
              "    </tr>\n",
              "    <tr>\n",
              "      <th>C8200</th>\n",
              "      <td>0.090909</td>\n",
              "    </tr>\n",
              "    <tr>\n",
              "      <th>C2100</th>\n",
              "      <td>0.226235</td>\n",
              "    </tr>\n",
              "    <tr>\n",
              "      <th>C2300</th>\n",
              "      <td>0.281250</td>\n",
              "    </tr>\n",
              "    <tr>\n",
              "      <th>C1300</th>\n",
              "      <td>0.293103</td>\n",
              "    </tr>\n",
              "    <tr>\n",
              "      <th>C2710</th>\n",
              "      <td>0.333333</td>\n",
              "    </tr>\n",
              "    <tr>\n",
              "      <th>C1200</th>\n",
              "      <td>0.462683</td>\n",
              "    </tr>\n",
              "    <tr>\n",
              "      <th>C3000</th>\n",
              "      <td>0.484880</td>\n",
              "    </tr>\n",
              "    <tr>\n",
              "      <th>bucket_0_5</th>\n",
              "      <td>0.500000</td>\n",
              "    </tr>\n",
              "    <tr>\n",
              "      <th>C2000</th>\n",
              "      <td>0.531939</td>\n",
              "    </tr>\n",
              "    <tr>\n",
              "      <th>C1000</th>\n",
              "      <td>0.563315</td>\n",
              "    </tr>\n",
              "    <tr>\n",
              "      <th>C2800</th>\n",
              "      <td>0.600000</td>\n",
              "    </tr>\n",
              "    <tr>\n",
              "      <th>C1700</th>\n",
              "      <td>0.602787</td>\n",
              "    </tr>\n",
              "    <tr>\n",
              "      <th>C1500</th>\n",
              "      <td>0.625000</td>\n",
              "    </tr>\n",
              "    <tr>\n",
              "      <th>bucket_0_667</th>\n",
              "      <td>0.666667</td>\n",
              "    </tr>\n",
              "    <tr>\n",
              "      <th>C8000</th>\n",
              "      <td>0.700000</td>\n",
              "    </tr>\n",
              "    <tr>\n",
              "      <th>C1250</th>\n",
              "      <td>0.714286</td>\n",
              "    </tr>\n",
              "    <tr>\n",
              "      <th>C2700</th>\n",
              "      <td>0.759615</td>\n",
              "    </tr>\n",
              "    <tr>\n",
              "      <th>C1270</th>\n",
              "      <td>0.771930</td>\n",
              "    </tr>\n",
              "    <tr>\n",
              "      <th>C1237</th>\n",
              "      <td>0.777778</td>\n",
              "    </tr>\n",
              "    <tr>\n",
              "      <th>C1600</th>\n",
              "      <td>0.800000</td>\n",
              "    </tr>\n",
              "    <tr>\n",
              "      <th>C1280</th>\n",
              "      <td>0.820000</td>\n",
              "    </tr>\n",
              "    <tr>\n",
              "      <th>C1400</th>\n",
              "      <td>0.823529</td>\n",
              "    </tr>\n",
              "    <tr>\n",
              "      <th>C4000</th>\n",
              "      <td>0.829897</td>\n",
              "    </tr>\n",
              "    <tr>\n",
              "      <th>bucket_0_83</th>\n",
              "      <td>0.833333</td>\n",
              "    </tr>\n",
              "    <tr>\n",
              "      <th>bucket_0_8667</th>\n",
              "      <td>0.866667</td>\n",
              "    </tr>\n",
              "    <tr>\n",
              "      <th>C7200</th>\n",
              "      <td>0.875000</td>\n",
              "    </tr>\n",
              "    <tr>\n",
              "      <th>C7000</th>\n",
              "      <td>0.893179</td>\n",
              "    </tr>\n",
              "    <tr>\n",
              "      <th>C1238</th>\n",
              "      <td>0.900000</td>\n",
              "    </tr>\n",
              "    <tr>\n",
              "      <th>C7100</th>\n",
              "      <td>0.906667</td>\n",
              "    </tr>\n",
              "    <tr>\n",
              "      <th>bucket_1</th>\n",
              "      <td>1.000000</td>\n",
              "    </tr>\n",
              "  </tbody>\n",
              "</table>\n",
              "</div>"
            ],
            "text/plain": [
              "                IS_SUCCESSFUL\n",
              "CLASSIFICATION               \n",
              "bucket_0             0.000000\n",
              "C5000                0.051724\n",
              "C8200                0.090909\n",
              "C2100                0.226235\n",
              "C2300                0.281250\n",
              "C1300                0.293103\n",
              "C2710                0.333333\n",
              "C1200                0.462683\n",
              "C3000                0.484880\n",
              "bucket_0_5           0.500000\n",
              "C2000                0.531939\n",
              "C1000                0.563315\n",
              "C2800                0.600000\n",
              "C1700                0.602787\n",
              "C1500                0.625000\n",
              "bucket_0_667         0.666667\n",
              "C8000                0.700000\n",
              "C1250                0.714286\n",
              "C2700                0.759615\n",
              "C1270                0.771930\n",
              "C1237                0.777778\n",
              "C1600                0.800000\n",
              "C1280                0.820000\n",
              "C1400                0.823529\n",
              "C4000                0.829897\n",
              "bucket_0_83          0.833333\n",
              "bucket_0_8667        0.866667\n",
              "C7200                0.875000\n",
              "C7000                0.893179\n",
              "C1238                0.900000\n",
              "C7100                0.906667\n",
              "bucket_1             1.000000"
            ]
          },
          "execution_count": 64,
          "metadata": {},
          "output_type": "execute_result"
        }
      ],
      "source": [
        "g2roupby_classification = a2pplication_df[['CLASSIFICATION', 'IS_SUCCESSFUL']].groupby('CLASSIFICATION').mean().sort_values('IS_SUCCESSFUL')\n",
        "g2roupby_classification"
      ]
    },
    {
      "cell_type": "code",
      "execution_count": 65,
      "metadata": {},
      "outputs": [
        {
          "data": {
            "text/html": [
              "<div>\n",
              "<style scoped>\n",
              "    .dataframe tbody tr th:only-of-type {\n",
              "        vertical-align: middle;\n",
              "    }\n",
              "\n",
              "    .dataframe tbody tr th {\n",
              "        vertical-align: top;\n",
              "    }\n",
              "\n",
              "    .dataframe thead th {\n",
              "        text-align: right;\n",
              "    }\n",
              "</style>\n",
              "<table border=\"1\" class=\"dataframe\">\n",
              "  <thead>\n",
              "    <tr style=\"text-align: right;\">\n",
              "      <th></th>\n",
              "      <th>IS_SUCCESSFUL</th>\n",
              "    </tr>\n",
              "    <tr>\n",
              "      <th>APPLICATION_TYPE</th>\n",
              "      <th></th>\n",
              "    </tr>\n",
              "  </thead>\n",
              "  <tbody>\n",
              "    <tr>\n",
              "      <th>T19</th>\n",
              "      <td>0.188732</td>\n",
              "    </tr>\n",
              "    <tr>\n",
              "      <th>T4</th>\n",
              "      <td>0.305447</td>\n",
              "    </tr>\n",
              "    <tr>\n",
              "      <th>T8</th>\n",
              "      <td>0.421981</td>\n",
              "    </tr>\n",
              "    <tr>\n",
              "      <th>T3</th>\n",
              "      <td>0.532160</td>\n",
              "    </tr>\n",
              "    <tr>\n",
              "      <th>T2</th>\n",
              "      <td>0.562500</td>\n",
              "    </tr>\n",
              "    <tr>\n",
              "      <th>T7</th>\n",
              "      <td>0.565517</td>\n",
              "    </tr>\n",
              "    <tr>\n",
              "      <th>T25</th>\n",
              "      <td>0.666667</td>\n",
              "    </tr>\n",
              "    <tr>\n",
              "      <th>T9</th>\n",
              "      <td>0.717949</td>\n",
              "    </tr>\n",
              "    <tr>\n",
              "      <th>T6</th>\n",
              "      <td>0.740132</td>\n",
              "    </tr>\n",
              "    <tr>\n",
              "      <th>T5</th>\n",
              "      <td>0.767263</td>\n",
              "    </tr>\n",
              "    <tr>\n",
              "      <th>T10</th>\n",
              "      <td>0.878788</td>\n",
              "    </tr>\n",
              "    <tr>\n",
              "      <th>T12</th>\n",
              "      <td>0.888889</td>\n",
              "    </tr>\n",
              "    <tr>\n",
              "      <th>T13</th>\n",
              "      <td>0.924242</td>\n",
              "    </tr>\n",
              "    <tr>\n",
              "      <th>T15</th>\n",
              "      <td>1.000000</td>\n",
              "    </tr>\n",
              "    <tr>\n",
              "      <th>T29</th>\n",
              "      <td>1.000000</td>\n",
              "    </tr>\n",
              "    <tr>\n",
              "      <th>T14</th>\n",
              "      <td>1.000000</td>\n",
              "    </tr>\n",
              "    <tr>\n",
              "      <th>T17</th>\n",
              "      <td>1.000000</td>\n",
              "    </tr>\n",
              "  </tbody>\n",
              "</table>\n",
              "</div>"
            ],
            "text/plain": [
              "                  IS_SUCCESSFUL\n",
              "APPLICATION_TYPE               \n",
              "T19                    0.188732\n",
              "T4                     0.305447\n",
              "T8                     0.421981\n",
              "T3                     0.532160\n",
              "T2                     0.562500\n",
              "T7                     0.565517\n",
              "T25                    0.666667\n",
              "T9                     0.717949\n",
              "T6                     0.740132\n",
              "T5                     0.767263\n",
              "T10                    0.878788\n",
              "T12                    0.888889\n",
              "T13                    0.924242\n",
              "T15                    1.000000\n",
              "T29                    1.000000\n",
              "T14                    1.000000\n",
              "T17                    1.000000"
            ]
          },
          "execution_count": 65,
          "metadata": {},
          "output_type": "execute_result"
        }
      ],
      "source": [
        "g3roupby_classification = a2pplication_df[['APPLICATION_TYPE', 'IS_SUCCESSFUL']].groupby('APPLICATION_TYPE').mean().sort_values('IS_SUCCESSFUL')\n",
        "g3roupby_classification"
      ]
    },
    {
      "cell_type": "code",
      "execution_count": 66,
      "metadata": {},
      "outputs": [
        {
          "data": {
            "text/plain": [
              "[Index(['T15', 'T29', 'T14', 'T17'], dtype='object', name='APPLICATION_TYPE')]"
            ]
          },
          "execution_count": 66,
          "metadata": {},
          "output_type": "execute_result"
        }
      ],
      "source": [
        "bucket_APP_TYP_1 = [g3roupby_classification[g3roupby_classification['IS_SUCCESSFUL'] == 1 ].index]\n",
        "bucket_APP_TYP_1"
      ]
    },
    {
      "cell_type": "code",
      "execution_count": 67,
      "metadata": {},
      "outputs": [
        {
          "name": "stdout",
          "output_type": "stream",
          "text": [
            "T3     27037\n",
            "T4      1542\n",
            "T6      1216\n",
            "T5      1173\n",
            "T19     1065\n",
            "T8       737\n",
            "T7       725\n",
            "T10      528\n",
            "T9       156\n",
            "T13       66\n",
            "T12       27\n",
            "T2        16\n",
            "T25        3\n",
            "T14        3\n",
            "T29        2\n",
            "T15        2\n",
            "T17        1\n",
            "Name: APPLICATION_TYPE, dtype: int64\n"
          ]
        },
        {
          "data": {
            "text/plain": [
              "14"
            ]
          },
          "execution_count": 67,
          "metadata": {},
          "output_type": "execute_result"
        }
      ],
      "source": [
        "print(a2pplication_df['APPLICATION_TYPE'].value_counts())\n",
        "# Replace in dataframe\n",
        "for cls in bucket_APP_TYP_1:\n",
        "    a2pplication_df['APPLICATION_TYPE'] = a2pplication_df['APPLICATION_TYPE'].replace(cls,\"bucket_APP_TYP_1\")\n",
        "\n",
        "# Check to make sure binning was successful\n",
        "a2pplication_df['APPLICATION_TYPE'].value_counts().count()"
      ]
    },
    {
      "cell_type": "code",
      "execution_count": 68,
      "metadata": {},
      "outputs": [
        {
          "data": {
            "text/plain": [
              "[Index(['T10', 'T12'], dtype='object', name='APPLICATION_TYPE')]"
            ]
          },
          "execution_count": 68,
          "metadata": {},
          "output_type": "execute_result"
        }
      ],
      "source": [
        "bucket_APP_TYP_0_88 = [g3roupby_classification[(g3roupby_classification['IS_SUCCESSFUL'] > 0.87) & (g3roupby_classification['IS_SUCCESSFUL'] < 0.89)].index]\n",
        "bucket_APP_TYP_0_88"
      ]
    },
    {
      "cell_type": "code",
      "execution_count": 69,
      "metadata": {},
      "outputs": [
        {
          "name": "stdout",
          "output_type": "stream",
          "text": [
            "T3                  27037\n",
            "T4                   1542\n",
            "T6                   1216\n",
            "T5                   1173\n",
            "T19                  1065\n",
            "T8                    737\n",
            "T7                    725\n",
            "T10                   528\n",
            "T9                    156\n",
            "T13                    66\n",
            "T12                    27\n",
            "T2                     16\n",
            "bucket_APP_TYP_1        8\n",
            "T25                     3\n",
            "Name: APPLICATION_TYPE, dtype: int64\n"
          ]
        },
        {
          "data": {
            "text/plain": [
              "13"
            ]
          },
          "execution_count": 69,
          "metadata": {},
          "output_type": "execute_result"
        }
      ],
      "source": [
        "print(a2pplication_df['APPLICATION_TYPE'].value_counts())\n",
        "# Replace in dataframe\n",
        "for cls in bucket_APP_TYP_0_88:\n",
        "    a2pplication_df['APPLICATION_TYPE'] = a2pplication_df['APPLICATION_TYPE'].replace(cls,\"bucket_APP_TYP_0_88\")\n",
        "\n",
        "# Check to make sure binning was successful\n",
        "a2pplication_df['APPLICATION_TYPE'].value_counts().count()"
      ]
    },
    {
      "cell_type": "code",
      "execution_count": 70,
      "metadata": {},
      "outputs": [
        {
          "data": {
            "text/plain": [
              "[Index(['T2', 'T7'], dtype='object', name='APPLICATION_TYPE')]"
            ]
          },
          "execution_count": 70,
          "metadata": {},
          "output_type": "execute_result"
        }
      ],
      "source": [
        "bucket_APP_TYP_0_57 = [g3roupby_classification[(g3roupby_classification['IS_SUCCESSFUL'] > 0.56) & (g3roupby_classification['IS_SUCCESSFUL'] < 0.57)].index]\n",
        "bucket_APP_TYP_0_57"
      ]
    },
    {
      "cell_type": "code",
      "execution_count": 71,
      "metadata": {},
      "outputs": [
        {
          "name": "stdout",
          "output_type": "stream",
          "text": [
            "T3                     27037\n",
            "T4                      1542\n",
            "T6                      1216\n",
            "T5                      1173\n",
            "T19                     1065\n",
            "T8                       737\n",
            "T7                       725\n",
            "bucket_APP_TYP_0_88      555\n",
            "T9                       156\n",
            "T13                       66\n",
            "T2                        16\n",
            "bucket_APP_TYP_1           8\n",
            "T25                        3\n",
            "Name: APPLICATION_TYPE, dtype: int64\n"
          ]
        },
        {
          "data": {
            "text/plain": [
              "12"
            ]
          },
          "execution_count": 71,
          "metadata": {},
          "output_type": "execute_result"
        }
      ],
      "source": [
        "print(a2pplication_df['APPLICATION_TYPE'].value_counts())\n",
        "# Replace in dataframe\n",
        "for cls in bucket_APP_TYP_0_57:\n",
        "    a2pplication_df['APPLICATION_TYPE'] = a2pplication_df['APPLICATION_TYPE'].replace(cls,\"bucket_APP_TYP_0_57\")\n",
        "\n",
        "# Check to make sure binning was successful\n",
        "a2pplication_df['APPLICATION_TYPE'].value_counts().count()"
      ]
    },
    {
      "cell_type": "code",
      "execution_count": 43,
      "metadata": {},
      "outputs": [
        {
          "name": "stdout",
          "output_type": "stream",
          "text": [
            "Trial 24 Complete [00h 00m 07s]\n",
            "val_accuracy: 0.7351545691490173\n",
            "\n",
            "Best val_accuracy So Far: 0.7381044030189514\n",
            "Total elapsed time: 00h 02m 35s\n",
            "\n",
            "Search: Running Trial #25\n",
            "\n",
            "Value             |Best Value So Far |Hyperparameter\n",
            "4                 |4                 |num_layers\n",
            "tanh              |tanh              |activation_layer_input\n",
            "67                |102               |neurons_layer_input\n",
            "leaky_relu        |relu              |activation_layer_1\n",
            "95                |92                |neurons_layer_1\n",
            "leaky_relu        |leaky_relu        |activation_layer_2\n",
            "134               |29                |neurons_layer_2\n",
            "relu              |relu              |activation_layer_3\n",
            "79                |52                |neurons_layer_3\n",
            "relu              |leaky_relu        |activation_layer_4\n",
            "83                |7                 |neurons_layer_4\n",
            "leaky_relu        |None              |activation_layer_5\n",
            "54                |None              |neurons_layer_5\n",
            "20                |7                 |tuner/epochs\n",
            "7                 |3                 |tuner/initial_epoch\n",
            "1                 |2                 |tuner/bracket\n",
            "1                 |1                 |tuner/round\n",
            "0022              |0006              |tuner/trial_id\n",
            "\n",
            "Epoch 8/20\n",
            "582/731 [======================>.......] - ETA: 0s - loss: 0.5531 - accuracy: 0.7277"
          ]
        },
        {
          "ename": "KeyboardInterrupt",
          "evalue": "",
          "output_type": "error",
          "traceback": [
            "\u001b[1;31m---------------------------------------------------------------------------\u001b[0m",
            "\u001b[1;31mKeyboardInterrupt\u001b[0m                         Traceback (most recent call last)",
            "\u001b[1;32mc:\\Users\\T852\\Downloads\\TempPic\\A7lphabetSoupCharity_Optimization.ipynb Cell 32\u001b[0m line \u001b[0;36m6\n\u001b[0;32m      <a href='vscode-notebook-cell:/c%3A/Users/T852/Downloads/TempPic/A7lphabetSoupCharity_Optimization.ipynb#Y110sZmlsZQ%3D%3D?line=3'>4</a>\u001b[0m step \u001b[39m=\u001b[39m \u001b[39m1\u001b[39m\n\u001b[0;32m      <a href='vscode-notebook-cell:/c%3A/Users/T852/Downloads/TempPic/A7lphabetSoupCharity_Optimization.ipynb#Y110sZmlsZQ%3D%3D?line=4'>5</a>\u001b[0m \u001b[39mprint\u001b[39m(\u001b[39mlen\u001b[39m(a1pplication_df\u001b[39m.\u001b[39mcolumns))\n\u001b[1;32m----> <a href='vscode-notebook-cell:/c%3A/Users/T852/Downloads/TempPic/A7lphabetSoupCharity_Optimization.ipynb#Y110sZmlsZQ%3D%3D?line=5'>6</a>\u001b[0m optimization2(\u001b[39m'\u001b[39;49m\u001b[39mincrease number of epochs from 20 to 100, increase maximum number of layers from 6 to 11 (includes input layer but not output)\u001b[39;49m\u001b[39m'\u001b[39;49m, a2pplication_df, [\u001b[39m'\u001b[39;49m\u001b[39mCLASSIFICATION\u001b[39;49m\u001b[39m'\u001b[39;49m], start, end, step, \u001b[39mTrue\u001b[39;49;00m)\n",
            "\u001b[1;32mc:\\Users\\T852\\Downloads\\TempPic\\A7lphabetSoupCharity_Optimization.ipynb Cell 32\u001b[0m line \u001b[0;36m1\n\u001b[0;32m     <a href='vscode-notebook-cell:/c%3A/Users/T852/Downloads/TempPic/A7lphabetSoupCharity_Optimization.ipynb#Y110sZmlsZQ%3D%3D?line=13'>14</a>\u001b[0m df \u001b[39m=\u001b[39m otherizer2(df, column, starting_from_least_column)\n\u001b[0;32m     <a href='vscode-notebook-cell:/c%3A/Users/T852/Downloads/TempPic/A7lphabetSoupCharity_Optimization.ipynb#Y110sZmlsZQ%3D%3D?line=14'>15</a>\u001b[0m \u001b[39mprint\u001b[39m(\u001b[39mf\u001b[39m\u001b[39m'\u001b[39m\u001b[39mlen(df[column].value_counts().index): \u001b[39m\u001b[39m{\u001b[39;00m\u001b[39mlen\u001b[39m(df[column]\u001b[39m.\u001b[39mvalue_counts()\u001b[39m.\u001b[39mindex\u001b[39m.\u001b[39mtolist())\u001b[39m}\u001b[39;00m\u001b[39m'\u001b[39m)\n\u001b[1;32m---> <a href='vscode-notebook-cell:/c%3A/Users/T852/Downloads/TempPic/A7lphabetSoupCharity_Optimization.ipynb#Y110sZmlsZQ%3D%3D?line=15'>16</a>\u001b[0m run_hyperparameters(optimization_title \u001b[39m+\u001b[39;49m \u001b[39mf\u001b[39;49m\u001b[39m'\u001b[39;49m\u001b[39m: otherize columns from \u001b[39;49m\u001b[39m{\u001b[39;49;00mstarting_from_least_column\u001b[39m}\u001b[39;49;00m\u001b[39m'\u001b[39;49m, df, \u001b[39m8\u001b[39;49m, \u001b[39m9\u001b[39;49m, \u001b[39m'\u001b[39;49m\u001b[39m'\u001b[39;49m, \u001b[39m20\u001b[39;49m)\n",
            "\u001b[1;32mc:\\Users\\T852\\Downloads\\TempPic\\A7lphabetSoupCharity_Optimization.ipynb Cell 32\u001b[0m line \u001b[0;36m5\n\u001b[0;32m     <a href='vscode-notebook-cell:/c%3A/Users/T852/Downloads/TempPic/A7lphabetSoupCharity_Optimization.ipynb#Y110sZmlsZQ%3D%3D?line=43'>44</a>\u001b[0m tuner \u001b[39m=\u001b[39m kt\u001b[39m.\u001b[39mHyperband(\n\u001b[0;32m     <a href='vscode-notebook-cell:/c%3A/Users/T852/Downloads/TempPic/A7lphabetSoupCharity_Optimization.ipynb#Y110sZmlsZQ%3D%3D?line=44'>45</a>\u001b[0m     create_model,\n\u001b[0;32m     <a href='vscode-notebook-cell:/c%3A/Users/T852/Downloads/TempPic/A7lphabetSoupCharity_Optimization.ipynb#Y110sZmlsZQ%3D%3D?line=45'>46</a>\u001b[0m     objective\u001b[39m=\u001b[39m\u001b[39m\"\u001b[39m\u001b[39mval_accuracy\u001b[39m\u001b[39m\"\u001b[39m,\n\u001b[0;32m     <a href='vscode-notebook-cell:/c%3A/Users/T852/Downloads/TempPic/A7lphabetSoupCharity_Optimization.ipynb#Y110sZmlsZQ%3D%3D?line=46'>47</a>\u001b[0m     max_epochs\u001b[39m=\u001b[39mmax_epochs,\n\u001b[0;32m     <a href='vscode-notebook-cell:/c%3A/Users/T852/Downloads/TempPic/A7lphabetSoupCharity_Optimization.ipynb#Y110sZmlsZQ%3D%3D?line=47'>48</a>\u001b[0m     hyperband_iterations\u001b[39m=\u001b[39m\u001b[39m2\u001b[39m,\n\u001b[0;32m     <a href='vscode-notebook-cell:/c%3A/Users/T852/Downloads/TempPic/A7lphabetSoupCharity_Optimization.ipynb#Y110sZmlsZQ%3D%3D?line=48'>49</a>\u001b[0m     seed\u001b[39m=\u001b[39m\u001b[39m1\u001b[39m)\u001b[39m#,\u001b[39;00m\n\u001b[0;32m     <a href='vscode-notebook-cell:/c%3A/Users/T852/Downloads/TempPic/A7lphabetSoupCharity_Optimization.ipynb#Y110sZmlsZQ%3D%3D?line=49'>50</a>\u001b[0m     \u001b[39m#callbacks=[random_seed_logger])\u001b[39;00m\n\u001b[0;32m     <a href='vscode-notebook-cell:/c%3A/Users/T852/Downloads/TempPic/A7lphabetSoupCharity_Optimization.ipynb#Y110sZmlsZQ%3D%3D?line=50'>51</a>\u001b[0m \n\u001b[0;32m     <a href='vscode-notebook-cell:/c%3A/Users/T852/Downloads/TempPic/A7lphabetSoupCharity_Optimization.ipynb#Y110sZmlsZQ%3D%3D?line=51'>52</a>\u001b[0m \u001b[39m# Run the kerastuner search for best hyperparameters\u001b[39;00m\n\u001b[1;32m---> <a href='vscode-notebook-cell:/c%3A/Users/T852/Downloads/TempPic/A7lphabetSoupCharity_Optimization.ipynb#Y110sZmlsZQ%3D%3D?line=52'>53</a>\u001b[0m tuner\u001b[39m.\u001b[39;49msearch(X_train_scaled,y_train,epochs\u001b[39m=\u001b[39;49m\u001b[39m20\u001b[39;49m,validation_data\u001b[39m=\u001b[39;49m(X_test_scaled,y_test))\n\u001b[0;32m     <a href='vscode-notebook-cell:/c%3A/Users/T852/Downloads/TempPic/A7lphabetSoupCharity_Optimization.ipynb#Y110sZmlsZQ%3D%3D?line=53'>54</a>\u001b[0m dict_results[\u001b[39m'\u001b[39m\u001b[39mparam\u001b[39m\u001b[39m'\u001b[39m] \u001b[39m=\u001b[39m tuner\u001b[39m.\u001b[39mget_best_hyperparameters(\u001b[39m1\u001b[39m)[\u001b[39m0\u001b[39m]\u001b[39m.\u001b[39mvalues\n\u001b[0;32m     <a href='vscode-notebook-cell:/c%3A/Users/T852/Downloads/TempPic/A7lphabetSoupCharity_Optimization.ipynb#Y110sZmlsZQ%3D%3D?line=54'>55</a>\u001b[0m first_model \u001b[39m=\u001b[39m tuner\u001b[39m.\u001b[39mget_best_models(\u001b[39m2\u001b[39m)[\u001b[39m0\u001b[39m]\n",
            "File \u001b[1;32mc:\\Users\\T852\\anaconda3\\envs\\dev\\lib\\site-packages\\keras_tuner\\src\\engine\\base_tuner.py:233\u001b[0m, in \u001b[0;36mBaseTuner.search\u001b[1;34m(self, *fit_args, **fit_kwargs)\u001b[0m\n\u001b[0;32m    230\u001b[0m         \u001b[39mcontinue\u001b[39;00m\n\u001b[0;32m    232\u001b[0m     \u001b[39mself\u001b[39m\u001b[39m.\u001b[39mon_trial_begin(trial)\n\u001b[1;32m--> 233\u001b[0m     \u001b[39mself\u001b[39m\u001b[39m.\u001b[39m_try_run_and_update_trial(trial, \u001b[39m*\u001b[39mfit_args, \u001b[39m*\u001b[39m\u001b[39m*\u001b[39mfit_kwargs)\n\u001b[0;32m    234\u001b[0m     \u001b[39mself\u001b[39m\u001b[39m.\u001b[39mon_trial_end(trial)\n\u001b[0;32m    235\u001b[0m \u001b[39mself\u001b[39m\u001b[39m.\u001b[39mon_search_end()\n",
            "File \u001b[1;32mc:\\Users\\T852\\anaconda3\\envs\\dev\\lib\\site-packages\\keras_tuner\\src\\engine\\base_tuner.py:273\u001b[0m, in \u001b[0;36mBaseTuner._try_run_and_update_trial\u001b[1;34m(self, trial, *fit_args, **fit_kwargs)\u001b[0m\n\u001b[0;32m    271\u001b[0m \u001b[39mdef\u001b[39;00m \u001b[39m_try_run_and_update_trial\u001b[39m(\u001b[39mself\u001b[39m, trial, \u001b[39m*\u001b[39mfit_args, \u001b[39m*\u001b[39m\u001b[39m*\u001b[39mfit_kwargs):\n\u001b[0;32m    272\u001b[0m     \u001b[39mtry\u001b[39;00m:\n\u001b[1;32m--> 273\u001b[0m         \u001b[39mself\u001b[39m\u001b[39m.\u001b[39m_run_and_update_trial(trial, \u001b[39m*\u001b[39mfit_args, \u001b[39m*\u001b[39m\u001b[39m*\u001b[39mfit_kwargs)\n\u001b[0;32m    274\u001b[0m         trial\u001b[39m.\u001b[39mstatus \u001b[39m=\u001b[39m trial_module\u001b[39m.\u001b[39mTrialStatus\u001b[39m.\u001b[39mCOMPLETED\n\u001b[0;32m    275\u001b[0m         \u001b[39mreturn\u001b[39;00m\n",
            "File \u001b[1;32mc:\\Users\\T852\\anaconda3\\envs\\dev\\lib\\site-packages\\keras_tuner\\src\\engine\\base_tuner.py:238\u001b[0m, in \u001b[0;36mBaseTuner._run_and_update_trial\u001b[1;34m(self, trial, *fit_args, **fit_kwargs)\u001b[0m\n\u001b[0;32m    237\u001b[0m \u001b[39mdef\u001b[39;00m \u001b[39m_run_and_update_trial\u001b[39m(\u001b[39mself\u001b[39m, trial, \u001b[39m*\u001b[39mfit_args, \u001b[39m*\u001b[39m\u001b[39m*\u001b[39mfit_kwargs):\n\u001b[1;32m--> 238\u001b[0m     results \u001b[39m=\u001b[39m \u001b[39mself\u001b[39m\u001b[39m.\u001b[39mrun_trial(trial, \u001b[39m*\u001b[39mfit_args, \u001b[39m*\u001b[39m\u001b[39m*\u001b[39mfit_kwargs)\n\u001b[0;32m    239\u001b[0m     \u001b[39mif\u001b[39;00m \u001b[39mself\u001b[39m\u001b[39m.\u001b[39moracle\u001b[39m.\u001b[39mget_trial(trial\u001b[39m.\u001b[39mtrial_id)\u001b[39m.\u001b[39mmetrics\u001b[39m.\u001b[39mexists(\n\u001b[0;32m    240\u001b[0m         \u001b[39mself\u001b[39m\u001b[39m.\u001b[39moracle\u001b[39m.\u001b[39mobjective\u001b[39m.\u001b[39mname\n\u001b[0;32m    241\u001b[0m     ):\n\u001b[0;32m    242\u001b[0m         \u001b[39m# The oracle is updated by calling `self.oracle.update_trial()` in\u001b[39;00m\n\u001b[0;32m    243\u001b[0m         \u001b[39m# `Tuner.run_trial()`. For backward compatibility, we support this\u001b[39;00m\n\u001b[0;32m    244\u001b[0m         \u001b[39m# use case. No further action needed in this case.\u001b[39;00m\n\u001b[0;32m    245\u001b[0m         warnings\u001b[39m.\u001b[39mwarn(\n\u001b[0;32m    246\u001b[0m             \u001b[39m\"\u001b[39m\u001b[39mThe use case of calling \u001b[39m\u001b[39m\"\u001b[39m\n\u001b[0;32m    247\u001b[0m             \u001b[39m\"\u001b[39m\u001b[39m`self.oracle.update_trial(trial_id, metrics)` \u001b[39m\u001b[39m\"\u001b[39m\n\u001b[1;32m   (...)\u001b[0m\n\u001b[0;32m    253\u001b[0m             stacklevel\u001b[39m=\u001b[39m\u001b[39m2\u001b[39m,\n\u001b[0;32m    254\u001b[0m         )\n",
            "File \u001b[1;32mc:\\Users\\T852\\anaconda3\\envs\\dev\\lib\\site-packages\\keras_tuner\\src\\tuners\\hyperband.py:427\u001b[0m, in \u001b[0;36mHyperband.run_trial\u001b[1;34m(self, trial, *fit_args, **fit_kwargs)\u001b[0m\n\u001b[0;32m    425\u001b[0m     fit_kwargs[\u001b[39m\"\u001b[39m\u001b[39mepochs\u001b[39m\u001b[39m\"\u001b[39m] \u001b[39m=\u001b[39m hp\u001b[39m.\u001b[39mvalues[\u001b[39m\"\u001b[39m\u001b[39mtuner/epochs\u001b[39m\u001b[39m\"\u001b[39m]\n\u001b[0;32m    426\u001b[0m     fit_kwargs[\u001b[39m\"\u001b[39m\u001b[39minitial_epoch\u001b[39m\u001b[39m\"\u001b[39m] \u001b[39m=\u001b[39m hp\u001b[39m.\u001b[39mvalues[\u001b[39m\"\u001b[39m\u001b[39mtuner/initial_epoch\u001b[39m\u001b[39m\"\u001b[39m]\n\u001b[1;32m--> 427\u001b[0m \u001b[39mreturn\u001b[39;00m \u001b[39msuper\u001b[39m()\u001b[39m.\u001b[39mrun_trial(trial, \u001b[39m*\u001b[39mfit_args, \u001b[39m*\u001b[39m\u001b[39m*\u001b[39mfit_kwargs)\n",
            "File \u001b[1;32mc:\\Users\\T852\\anaconda3\\envs\\dev\\lib\\site-packages\\keras_tuner\\src\\engine\\tuner.py:314\u001b[0m, in \u001b[0;36mTuner.run_trial\u001b[1;34m(self, trial, *args, **kwargs)\u001b[0m\n\u001b[0;32m    312\u001b[0m     callbacks\u001b[39m.\u001b[39mappend(model_checkpoint)\n\u001b[0;32m    313\u001b[0m     copied_kwargs[\u001b[39m\"\u001b[39m\u001b[39mcallbacks\u001b[39m\u001b[39m\"\u001b[39m] \u001b[39m=\u001b[39m callbacks\n\u001b[1;32m--> 314\u001b[0m     obj_value \u001b[39m=\u001b[39m \u001b[39mself\u001b[39m\u001b[39m.\u001b[39m_build_and_fit_model(trial, \u001b[39m*\u001b[39margs, \u001b[39m*\u001b[39m\u001b[39m*\u001b[39mcopied_kwargs)\n\u001b[0;32m    316\u001b[0m     histories\u001b[39m.\u001b[39mappend(obj_value)\n\u001b[0;32m    317\u001b[0m \u001b[39mreturn\u001b[39;00m histories\n",
            "File \u001b[1;32mc:\\Users\\T852\\anaconda3\\envs\\dev\\lib\\site-packages\\keras_tuner\\src\\engine\\tuner.py:233\u001b[0m, in \u001b[0;36mTuner._build_and_fit_model\u001b[1;34m(self, trial, *args, **kwargs)\u001b[0m\n\u001b[0;32m    231\u001b[0m hp \u001b[39m=\u001b[39m trial\u001b[39m.\u001b[39mhyperparameters\n\u001b[0;32m    232\u001b[0m model \u001b[39m=\u001b[39m \u001b[39mself\u001b[39m\u001b[39m.\u001b[39m_try_build(hp)\n\u001b[1;32m--> 233\u001b[0m results \u001b[39m=\u001b[39m \u001b[39mself\u001b[39m\u001b[39m.\u001b[39mhypermodel\u001b[39m.\u001b[39mfit(hp, model, \u001b[39m*\u001b[39margs, \u001b[39m*\u001b[39m\u001b[39m*\u001b[39mkwargs)\n\u001b[0;32m    235\u001b[0m \u001b[39m# Save the build config for model loading later.\u001b[39;00m\n\u001b[0;32m    236\u001b[0m \u001b[39mif\u001b[39;00m backend\u001b[39m.\u001b[39mconfig\u001b[39m.\u001b[39mmulti_backend():\n",
            "File \u001b[1;32mc:\\Users\\T852\\anaconda3\\envs\\dev\\lib\\site-packages\\keras_tuner\\src\\engine\\hypermodel.py:149\u001b[0m, in \u001b[0;36mHyperModel.fit\u001b[1;34m(self, hp, model, *args, **kwargs)\u001b[0m\n\u001b[0;32m    125\u001b[0m \u001b[39mdef\u001b[39;00m \u001b[39mfit\u001b[39m(\u001b[39mself\u001b[39m, hp, model, \u001b[39m*\u001b[39margs, \u001b[39m*\u001b[39m\u001b[39m*\u001b[39mkwargs):\n\u001b[0;32m    126\u001b[0m \u001b[39m    \u001b[39m\u001b[39m\"\"\"Train the model.\u001b[39;00m\n\u001b[0;32m    127\u001b[0m \n\u001b[0;32m    128\u001b[0m \u001b[39m    Args:\u001b[39;00m\n\u001b[1;32m   (...)\u001b[0m\n\u001b[0;32m    147\u001b[0m \u001b[39m        If return a float, it should be the `objective` value.\u001b[39;00m\n\u001b[0;32m    148\u001b[0m \u001b[39m    \"\"\"\u001b[39;00m\n\u001b[1;32m--> 149\u001b[0m     \u001b[39mreturn\u001b[39;00m model\u001b[39m.\u001b[39mfit(\u001b[39m*\u001b[39margs, \u001b[39m*\u001b[39m\u001b[39m*\u001b[39mkwargs)\n",
            "File \u001b[1;32mc:\\Users\\T852\\anaconda3\\envs\\dev\\lib\\site-packages\\keras\\src\\utils\\traceback_utils.py:65\u001b[0m, in \u001b[0;36mfilter_traceback.<locals>.error_handler\u001b[1;34m(*args, **kwargs)\u001b[0m\n\u001b[0;32m     63\u001b[0m filtered_tb \u001b[39m=\u001b[39m \u001b[39mNone\u001b[39;00m\n\u001b[0;32m     64\u001b[0m \u001b[39mtry\u001b[39;00m:\n\u001b[1;32m---> 65\u001b[0m     \u001b[39mreturn\u001b[39;00m fn(\u001b[39m*\u001b[39margs, \u001b[39m*\u001b[39m\u001b[39m*\u001b[39mkwargs)\n\u001b[0;32m     66\u001b[0m \u001b[39mexcept\u001b[39;00m \u001b[39mException\u001b[39;00m \u001b[39mas\u001b[39;00m e:\n\u001b[0;32m     67\u001b[0m     filtered_tb \u001b[39m=\u001b[39m _process_traceback_frames(e\u001b[39m.\u001b[39m__traceback__)\n",
            "File \u001b[1;32mc:\\Users\\T852\\anaconda3\\envs\\dev\\lib\\site-packages\\keras\\src\\engine\\training.py:1783\u001b[0m, in \u001b[0;36mModel.fit\u001b[1;34m(self, x, y, batch_size, epochs, verbose, callbacks, validation_split, validation_data, shuffle, class_weight, sample_weight, initial_epoch, steps_per_epoch, validation_steps, validation_batch_size, validation_freq, max_queue_size, workers, use_multiprocessing)\u001b[0m\n\u001b[0;32m   1775\u001b[0m \u001b[39mwith\u001b[39;00m tf\u001b[39m.\u001b[39mprofiler\u001b[39m.\u001b[39mexperimental\u001b[39m.\u001b[39mTrace(\n\u001b[0;32m   1776\u001b[0m     \u001b[39m\"\u001b[39m\u001b[39mtrain\u001b[39m\u001b[39m\"\u001b[39m,\n\u001b[0;32m   1777\u001b[0m     epoch_num\u001b[39m=\u001b[39mepoch,\n\u001b[1;32m   (...)\u001b[0m\n\u001b[0;32m   1780\u001b[0m     _r\u001b[39m=\u001b[39m\u001b[39m1\u001b[39m,\n\u001b[0;32m   1781\u001b[0m ):\n\u001b[0;32m   1782\u001b[0m     callbacks\u001b[39m.\u001b[39mon_train_batch_begin(step)\n\u001b[1;32m-> 1783\u001b[0m     tmp_logs \u001b[39m=\u001b[39m \u001b[39mself\u001b[39;49m\u001b[39m.\u001b[39;49mtrain_function(iterator)\n\u001b[0;32m   1784\u001b[0m     \u001b[39mif\u001b[39;00m data_handler\u001b[39m.\u001b[39mshould_sync:\n\u001b[0;32m   1785\u001b[0m         context\u001b[39m.\u001b[39masync_wait()\n",
            "File \u001b[1;32mc:\\Users\\T852\\anaconda3\\envs\\dev\\lib\\site-packages\\tensorflow\\python\\util\\traceback_utils.py:150\u001b[0m, in \u001b[0;36mfilter_traceback.<locals>.error_handler\u001b[1;34m(*args, **kwargs)\u001b[0m\n\u001b[0;32m    148\u001b[0m filtered_tb \u001b[39m=\u001b[39m \u001b[39mNone\u001b[39;00m\n\u001b[0;32m    149\u001b[0m \u001b[39mtry\u001b[39;00m:\n\u001b[1;32m--> 150\u001b[0m   \u001b[39mreturn\u001b[39;00m fn(\u001b[39m*\u001b[39margs, \u001b[39m*\u001b[39m\u001b[39m*\u001b[39mkwargs)\n\u001b[0;32m    151\u001b[0m \u001b[39mexcept\u001b[39;00m \u001b[39mException\u001b[39;00m \u001b[39mas\u001b[39;00m e:\n\u001b[0;32m    152\u001b[0m   filtered_tb \u001b[39m=\u001b[39m _process_traceback_frames(e\u001b[39m.\u001b[39m__traceback__)\n",
            "File \u001b[1;32mc:\\Users\\T852\\anaconda3\\envs\\dev\\lib\\site-packages\\tensorflow\\python\\eager\\polymorphic_function\\polymorphic_function.py:831\u001b[0m, in \u001b[0;36mFunction.__call__\u001b[1;34m(self, *args, **kwds)\u001b[0m\n\u001b[0;32m    828\u001b[0m compiler \u001b[39m=\u001b[39m \u001b[39m\"\u001b[39m\u001b[39mxla\u001b[39m\u001b[39m\"\u001b[39m \u001b[39mif\u001b[39;00m \u001b[39mself\u001b[39m\u001b[39m.\u001b[39m_jit_compile \u001b[39melse\u001b[39;00m \u001b[39m\"\u001b[39m\u001b[39mnonXla\u001b[39m\u001b[39m\"\u001b[39m\n\u001b[0;32m    830\u001b[0m \u001b[39mwith\u001b[39;00m OptionalXlaContext(\u001b[39mself\u001b[39m\u001b[39m.\u001b[39m_jit_compile):\n\u001b[1;32m--> 831\u001b[0m   result \u001b[39m=\u001b[39m \u001b[39mself\u001b[39m\u001b[39m.\u001b[39m_call(\u001b[39m*\u001b[39margs, \u001b[39m*\u001b[39m\u001b[39m*\u001b[39mkwds)\n\u001b[0;32m    833\u001b[0m new_tracing_count \u001b[39m=\u001b[39m \u001b[39mself\u001b[39m\u001b[39m.\u001b[39mexperimental_get_tracing_count()\n\u001b[0;32m    834\u001b[0m without_tracing \u001b[39m=\u001b[39m (tracing_count \u001b[39m==\u001b[39m new_tracing_count)\n",
            "File \u001b[1;32mc:\\Users\\T852\\anaconda3\\envs\\dev\\lib\\site-packages\\tensorflow\\python\\eager\\polymorphic_function\\polymorphic_function.py:867\u001b[0m, in \u001b[0;36mFunction._call\u001b[1;34m(self, *args, **kwds)\u001b[0m\n\u001b[0;32m    864\u001b[0m   \u001b[39mself\u001b[39m\u001b[39m.\u001b[39m_lock\u001b[39m.\u001b[39mrelease()\n\u001b[0;32m    865\u001b[0m   \u001b[39m# In this case we have created variables on the first call, so we run the\u001b[39;00m\n\u001b[0;32m    866\u001b[0m   \u001b[39m# defunned version which is guaranteed to never create variables.\u001b[39;00m\n\u001b[1;32m--> 867\u001b[0m   \u001b[39mreturn\u001b[39;00m tracing_compilation\u001b[39m.\u001b[39;49mcall_function(\n\u001b[0;32m    868\u001b[0m       args, kwds, \u001b[39mself\u001b[39;49m\u001b[39m.\u001b[39;49m_no_variable_creation_config\n\u001b[0;32m    869\u001b[0m   )\n\u001b[0;32m    870\u001b[0m \u001b[39melif\u001b[39;00m \u001b[39mself\u001b[39m\u001b[39m.\u001b[39m_variable_creation_config \u001b[39mis\u001b[39;00m \u001b[39mnot\u001b[39;00m \u001b[39mNone\u001b[39;00m:\n\u001b[0;32m    871\u001b[0m   \u001b[39m# Release the lock early so that multiple threads can perform the call\u001b[39;00m\n\u001b[0;32m    872\u001b[0m   \u001b[39m# in parallel.\u001b[39;00m\n\u001b[0;32m    873\u001b[0m   \u001b[39mself\u001b[39m\u001b[39m.\u001b[39m_lock\u001b[39m.\u001b[39mrelease()\n",
            "File \u001b[1;32mc:\\Users\\T852\\anaconda3\\envs\\dev\\lib\\site-packages\\tensorflow\\python\\eager\\polymorphic_function\\tracing_compilation.py:139\u001b[0m, in \u001b[0;36mcall_function\u001b[1;34m(args, kwargs, tracing_options)\u001b[0m\n\u001b[0;32m    137\u001b[0m bound_args \u001b[39m=\u001b[39m function\u001b[39m.\u001b[39mfunction_type\u001b[39m.\u001b[39mbind(\u001b[39m*\u001b[39margs, \u001b[39m*\u001b[39m\u001b[39m*\u001b[39mkwargs)\n\u001b[0;32m    138\u001b[0m flat_inputs \u001b[39m=\u001b[39m function\u001b[39m.\u001b[39mfunction_type\u001b[39m.\u001b[39munpack_inputs(bound_args)\n\u001b[1;32m--> 139\u001b[0m \u001b[39mreturn\u001b[39;00m function\u001b[39m.\u001b[39;49m_call_flat(  \u001b[39m# pylint: disable=protected-access\u001b[39;49;00m\n\u001b[0;32m    140\u001b[0m     flat_inputs, captured_inputs\u001b[39m=\u001b[39;49mfunction\u001b[39m.\u001b[39;49mcaptured_inputs\n\u001b[0;32m    141\u001b[0m )\n",
            "File \u001b[1;32mc:\\Users\\T852\\anaconda3\\envs\\dev\\lib\\site-packages\\tensorflow\\python\\eager\\polymorphic_function\\concrete_function.py:1264\u001b[0m, in \u001b[0;36mConcreteFunction._call_flat\u001b[1;34m(self, tensor_inputs, captured_inputs)\u001b[0m\n\u001b[0;32m   1260\u001b[0m possible_gradient_type \u001b[39m=\u001b[39m gradients_util\u001b[39m.\u001b[39mPossibleTapeGradientTypes(args)\n\u001b[0;32m   1261\u001b[0m \u001b[39mif\u001b[39;00m (possible_gradient_type \u001b[39m==\u001b[39m gradients_util\u001b[39m.\u001b[39mPOSSIBLE_GRADIENT_TYPES_NONE\n\u001b[0;32m   1262\u001b[0m     \u001b[39mand\u001b[39;00m executing_eagerly):\n\u001b[0;32m   1263\u001b[0m   \u001b[39m# No tape is watching; skip to running the function.\u001b[39;00m\n\u001b[1;32m-> 1264\u001b[0m   \u001b[39mreturn\u001b[39;00m \u001b[39mself\u001b[39;49m\u001b[39m.\u001b[39;49m_inference_function\u001b[39m.\u001b[39;49mflat_call(args)\n\u001b[0;32m   1265\u001b[0m forward_backward \u001b[39m=\u001b[39m \u001b[39mself\u001b[39m\u001b[39m.\u001b[39m_select_forward_and_backward_functions(\n\u001b[0;32m   1266\u001b[0m     args,\n\u001b[0;32m   1267\u001b[0m     possible_gradient_type,\n\u001b[0;32m   1268\u001b[0m     executing_eagerly)\n\u001b[0;32m   1269\u001b[0m forward_function, args_with_tangents \u001b[39m=\u001b[39m forward_backward\u001b[39m.\u001b[39mforward()\n",
            "File \u001b[1;32mc:\\Users\\T852\\anaconda3\\envs\\dev\\lib\\site-packages\\tensorflow\\python\\eager\\polymorphic_function\\atomic_function.py:217\u001b[0m, in \u001b[0;36mAtomicFunction.flat_call\u001b[1;34m(self, args)\u001b[0m\n\u001b[0;32m    215\u001b[0m \u001b[39mdef\u001b[39;00m \u001b[39mflat_call\u001b[39m(\u001b[39mself\u001b[39m, args: Sequence[core\u001b[39m.\u001b[39mTensor]) \u001b[39m-\u001b[39m\u001b[39m>\u001b[39m Any:\n\u001b[0;32m    216\u001b[0m \u001b[39m  \u001b[39m\u001b[39m\"\"\"Calls with tensor inputs and returns the structured output.\"\"\"\u001b[39;00m\n\u001b[1;32m--> 217\u001b[0m   flat_outputs \u001b[39m=\u001b[39m \u001b[39mself\u001b[39;49m(\u001b[39m*\u001b[39;49margs)\n\u001b[0;32m    218\u001b[0m   \u001b[39mreturn\u001b[39;00m \u001b[39mself\u001b[39m\u001b[39m.\u001b[39mfunction_type\u001b[39m.\u001b[39mpack_output(flat_outputs)\n",
            "File \u001b[1;32mc:\\Users\\T852\\anaconda3\\envs\\dev\\lib\\site-packages\\tensorflow\\python\\eager\\polymorphic_function\\atomic_function.py:252\u001b[0m, in \u001b[0;36mAtomicFunction.__call__\u001b[1;34m(self, *args)\u001b[0m\n\u001b[0;32m    250\u001b[0m \u001b[39mwith\u001b[39;00m record\u001b[39m.\u001b[39mstop_recording():\n\u001b[0;32m    251\u001b[0m   \u001b[39mif\u001b[39;00m \u001b[39mself\u001b[39m\u001b[39m.\u001b[39m_bound_context\u001b[39m.\u001b[39mexecuting_eagerly():\n\u001b[1;32m--> 252\u001b[0m     outputs \u001b[39m=\u001b[39m \u001b[39mself\u001b[39;49m\u001b[39m.\u001b[39;49m_bound_context\u001b[39m.\u001b[39;49mcall_function(\n\u001b[0;32m    253\u001b[0m         \u001b[39mself\u001b[39;49m\u001b[39m.\u001b[39;49mname,\n\u001b[0;32m    254\u001b[0m         \u001b[39mlist\u001b[39;49m(args),\n\u001b[0;32m    255\u001b[0m         \u001b[39mlen\u001b[39;49m(\u001b[39mself\u001b[39;49m\u001b[39m.\u001b[39;49mfunction_type\u001b[39m.\u001b[39;49mflat_outputs),\n\u001b[0;32m    256\u001b[0m     )\n\u001b[0;32m    257\u001b[0m   \u001b[39melse\u001b[39;00m:\n\u001b[0;32m    258\u001b[0m     outputs \u001b[39m=\u001b[39m make_call_op_in_graph(\n\u001b[0;32m    259\u001b[0m         \u001b[39mself\u001b[39m,\n\u001b[0;32m    260\u001b[0m         \u001b[39mlist\u001b[39m(args),\n\u001b[0;32m    261\u001b[0m         \u001b[39mself\u001b[39m\u001b[39m.\u001b[39m_bound_context\u001b[39m.\u001b[39mfunction_call_options\u001b[39m.\u001b[39mas_attrs(),\n\u001b[0;32m    262\u001b[0m     )\n",
            "File \u001b[1;32mc:\\Users\\T852\\anaconda3\\envs\\dev\\lib\\site-packages\\tensorflow\\python\\eager\\context.py:1479\u001b[0m, in \u001b[0;36mContext.call_function\u001b[1;34m(self, name, tensor_inputs, num_outputs)\u001b[0m\n\u001b[0;32m   1477\u001b[0m cancellation_context \u001b[39m=\u001b[39m cancellation\u001b[39m.\u001b[39mcontext()\n\u001b[0;32m   1478\u001b[0m \u001b[39mif\u001b[39;00m cancellation_context \u001b[39mis\u001b[39;00m \u001b[39mNone\u001b[39;00m:\n\u001b[1;32m-> 1479\u001b[0m   outputs \u001b[39m=\u001b[39m execute\u001b[39m.\u001b[39;49mexecute(\n\u001b[0;32m   1480\u001b[0m       name\u001b[39m.\u001b[39;49mdecode(\u001b[39m\"\u001b[39;49m\u001b[39mutf-8\u001b[39;49m\u001b[39m\"\u001b[39;49m),\n\u001b[0;32m   1481\u001b[0m       num_outputs\u001b[39m=\u001b[39;49mnum_outputs,\n\u001b[0;32m   1482\u001b[0m       inputs\u001b[39m=\u001b[39;49mtensor_inputs,\n\u001b[0;32m   1483\u001b[0m       attrs\u001b[39m=\u001b[39;49mattrs,\n\u001b[0;32m   1484\u001b[0m       ctx\u001b[39m=\u001b[39;49m\u001b[39mself\u001b[39;49m,\n\u001b[0;32m   1485\u001b[0m   )\n\u001b[0;32m   1486\u001b[0m \u001b[39melse\u001b[39;00m:\n\u001b[0;32m   1487\u001b[0m   outputs \u001b[39m=\u001b[39m execute\u001b[39m.\u001b[39mexecute_with_cancellation(\n\u001b[0;32m   1488\u001b[0m       name\u001b[39m.\u001b[39mdecode(\u001b[39m\"\u001b[39m\u001b[39mutf-8\u001b[39m\u001b[39m\"\u001b[39m),\n\u001b[0;32m   1489\u001b[0m       num_outputs\u001b[39m=\u001b[39mnum_outputs,\n\u001b[1;32m   (...)\u001b[0m\n\u001b[0;32m   1493\u001b[0m       cancellation_manager\u001b[39m=\u001b[39mcancellation_context,\n\u001b[0;32m   1494\u001b[0m   )\n",
            "File \u001b[1;32mc:\\Users\\T852\\anaconda3\\envs\\dev\\lib\\site-packages\\tensorflow\\python\\eager\\execute.py:60\u001b[0m, in \u001b[0;36mquick_execute\u001b[1;34m(op_name, num_outputs, inputs, attrs, ctx, name)\u001b[0m\n\u001b[0;32m     53\u001b[0m   \u001b[39m# Convert any objects of type core_types.Tensor to Tensor.\u001b[39;00m\n\u001b[0;32m     54\u001b[0m   inputs \u001b[39m=\u001b[39m [\n\u001b[0;32m     55\u001b[0m       tensor_conversion_registry\u001b[39m.\u001b[39mconvert(t)\n\u001b[0;32m     56\u001b[0m       \u001b[39mif\u001b[39;00m \u001b[39misinstance\u001b[39m(t, core_types\u001b[39m.\u001b[39mTensor)\n\u001b[0;32m     57\u001b[0m       \u001b[39melse\u001b[39;00m t\n\u001b[0;32m     58\u001b[0m       \u001b[39mfor\u001b[39;00m t \u001b[39min\u001b[39;00m inputs\n\u001b[0;32m     59\u001b[0m   ]\n\u001b[1;32m---> 60\u001b[0m   tensors \u001b[39m=\u001b[39m pywrap_tfe\u001b[39m.\u001b[39;49mTFE_Py_Execute(ctx\u001b[39m.\u001b[39;49m_handle, device_name, op_name,\n\u001b[0;32m     61\u001b[0m                                       inputs, attrs, num_outputs)\n\u001b[0;32m     62\u001b[0m \u001b[39mexcept\u001b[39;00m core\u001b[39m.\u001b[39m_NotOkStatusException \u001b[39mas\u001b[39;00m e:\n\u001b[0;32m     63\u001b[0m   \u001b[39mif\u001b[39;00m name \u001b[39mis\u001b[39;00m \u001b[39mnot\u001b[39;00m \u001b[39mNone\u001b[39;00m:\n",
            "\u001b[1;31mKeyboardInterrupt\u001b[0m: "
          ]
        }
      ],
      "source": [
        "\n",
        "# a1pplication_df\n",
        "start = 21\n",
        "end = 22\n",
        "step = 1\n",
        "print(len(a1pplication_df.columns))\n",
        "optimization2('add buckets for classification', a2pplication_df, ['CLASSIFICATION'], start, end, step, True)"
      ]
    },
    {
      "cell_type": "code",
      "execution_count": null,
      "metadata": {},
      "outputs": [],
      "source": [
        "\n",
        "# a1pplication_df\n",
        "start = 21\n",
        "end = 22\n",
        "step = 1\n",
        "print(len(a1pplication_df.columns))\n",
        "optimization2('increase number of epochs from 20 to 100, increase maximum number of layers from 6 to 11 (includes input layer but not output)', a2pplication_df, ['CLASSIFICATION'], start, end, step, True)"
      ]
    },
    {
      "cell_type": "code",
      "execution_count": 72,
      "metadata": {},
      "outputs": [
        {
          "name": "stdout",
          "output_type": "stream",
          "text": [
            "Trial 180 Complete [00h 00m 33s]\n",
            "val_accuracy: 0.7326096892356873\n",
            "\n",
            "Best val_accuracy So Far: 0.7345938086509705\n",
            "Total elapsed time: 00h 29m 08s\n",
            "WARNING:tensorflow:Detecting that an object or model or tf.train.Checkpoint is being deleted with unrestored values. See the following logs for the specific values in question. To silence these warnings, use `status.expect_partial()`. See https://www.tensorflow.org/api_docs/python/tf/train/Checkpoint#restorefor details about the status object returned by the restore function.\n",
            "WARNING:tensorflow:Value in checkpoint could not be found in the restored object: (root).optimizer._variables.1\n",
            "WARNING:tensorflow:Value in checkpoint could not be found in the restored object: (root).optimizer._variables.2\n",
            "WARNING:tensorflow:Value in checkpoint could not be found in the restored object: (root).optimizer._variables.3\n",
            "WARNING:tensorflow:Value in checkpoint could not be found in the restored object: (root).optimizer._variables.4\n",
            "WARNING:tensorflow:Value in checkpoint could not be found in the restored object: (root).optimizer._variables.5\n",
            "WARNING:tensorflow:Value in checkpoint could not be found in the restored object: (root).optimizer._variables.6\n",
            "WARNING:tensorflow:Value in checkpoint could not be found in the restored object: (root).optimizer._variables.7\n",
            "WARNING:tensorflow:Value in checkpoint could not be found in the restored object: (root).optimizer._variables.8\n",
            "WARNING:tensorflow:Value in checkpoint could not be found in the restored object: (root).optimizer._variables.9\n",
            "WARNING:tensorflow:Value in checkpoint could not be found in the restored object: (root).optimizer._variables.10\n",
            "WARNING:tensorflow:Value in checkpoint could not be found in the restored object: (root).optimizer._variables.11\n",
            "WARNING:tensorflow:Value in checkpoint could not be found in the restored object: (root).optimizer._variables.12\n",
            "WARNING:tensorflow:Value in checkpoint could not be found in the restored object: (root).optimizer._variables.13\n",
            "WARNING:tensorflow:Value in checkpoint could not be found in the restored object: (root).optimizer._variables.14\n",
            "WARNING:tensorflow:Value in checkpoint could not be found in the restored object: (root).optimizer._variables.15\n",
            "WARNING:tensorflow:Value in checkpoint could not be found in the restored object: (root).optimizer._variables.16\n",
            "WARNING:tensorflow:Value in checkpoint could not be found in the restored object: (root).optimizer._variables.17\n",
            "WARNING:tensorflow:Value in checkpoint could not be found in the restored object: (root).optimizer._variables.18\n",
            "WARNING:tensorflow:Value in checkpoint could not be found in the restored object: (root).optimizer._variables.19\n",
            "WARNING:tensorflow:Value in checkpoint could not be found in the restored object: (root).optimizer._variables.20\n",
            "WARNING:tensorflow:Value in checkpoint could not be found in the restored object: (root).optimizer._variables.21\n",
            "WARNING:tensorflow:Value in checkpoint could not be found in the restored object: (root).optimizer._variables.22\n",
            "WARNING:tensorflow:Value in checkpoint could not be found in the restored object: (root).optimizer._variables.23\n",
            "WARNING:tensorflow:Value in checkpoint could not be found in the restored object: (root).optimizer._variables.24\n",
            "WARNING:tensorflow:Detecting that an object or model or tf.train.Checkpoint is being deleted with unrestored values. See the following logs for the specific values in question. To silence these warnings, use `status.expect_partial()`. See https://www.tensorflow.org/api_docs/python/tf/train/Checkpoint#restorefor details about the status object returned by the restore function.\n",
            "WARNING:tensorflow:Value in checkpoint could not be found in the restored object: (root).optimizer._variables.1\n",
            "WARNING:tensorflow:Value in checkpoint could not be found in the restored object: (root).optimizer._variables.2\n",
            "WARNING:tensorflow:Value in checkpoint could not be found in the restored object: (root).optimizer._variables.3\n",
            "WARNING:tensorflow:Value in checkpoint could not be found in the restored object: (root).optimizer._variables.4\n",
            "WARNING:tensorflow:Value in checkpoint could not be found in the restored object: (root).optimizer._variables.5\n",
            "WARNING:tensorflow:Value in checkpoint could not be found in the restored object: (root).optimizer._variables.6\n",
            "WARNING:tensorflow:Value in checkpoint could not be found in the restored object: (root).optimizer._variables.7\n",
            "WARNING:tensorflow:Value in checkpoint could not be found in the restored object: (root).optimizer._variables.8\n",
            "WARNING:tensorflow:Value in checkpoint could not be found in the restored object: (root).optimizer._variables.9\n",
            "WARNING:tensorflow:Value in checkpoint could not be found in the restored object: (root).optimizer._variables.10\n",
            "WARNING:tensorflow:Value in checkpoint could not be found in the restored object: (root).optimizer._variables.11\n",
            "WARNING:tensorflow:Value in checkpoint could not be found in the restored object: (root).optimizer._variables.12\n",
            "WARNING:tensorflow:Value in checkpoint could not be found in the restored object: (root).optimizer._variables.13\n",
            "WARNING:tensorflow:Value in checkpoint could not be found in the restored object: (root).optimizer._variables.14\n",
            "WARNING:tensorflow:Value in checkpoint could not be found in the restored object: (root).optimizer._variables.15\n",
            "WARNING:tensorflow:Value in checkpoint could not be found in the restored object: (root).optimizer._variables.16\n",
            "WARNING:tensorflow:Value in checkpoint could not be found in the restored object: (root).optimizer._variables.17\n",
            "WARNING:tensorflow:Value in checkpoint could not be found in the restored object: (root).optimizer._variables.18\n",
            "WARNING:tensorflow:Value in checkpoint could not be found in the restored object: (root).optimizer._variables.19\n",
            "WARNING:tensorflow:Value in checkpoint could not be found in the restored object: (root).optimizer._variables.20\n",
            "WARNING:tensorflow:Value in checkpoint could not be found in the restored object: (root).optimizer._variables.21\n",
            "WARNING:tensorflow:Value in checkpoint could not be found in the restored object: (root).optimizer._variables.22\n",
            "WARNING:tensorflow:Value in checkpoint could not be found in the restored object: (root).optimizer._variables.23\n",
            "WARNING:tensorflow:Value in checkpoint could not be found in the restored object: (root).optimizer._variables.24\n",
            "268/268 - 0s - loss: 0.5504 - accuracy: 0.7346 - 343ms/epoch - 1ms/step\n",
            "[{'Optimization Title': 'try hyperparameters across thresholds 7 to 11 with max_epoch 30 and 11 possible layers', 'columns': Index(['STATUS', 'ASK_AMT', 'IS_SUCCESSFUL', 'APPLICATION_TYPE_T10',\n",
            "       'APPLICATION_TYPE_T12', 'APPLICATION_TYPE_T13', 'APPLICATION_TYPE_T14',\n",
            "       'APPLICATION_TYPE_T15', 'APPLICATION_TYPE_T17', 'APPLICATION_TYPE_T19',\n",
            "       ...\n",
            "       'INCOME_AMT_1-9999', 'INCOME_AMT_10000-24999',\n",
            "       'INCOME_AMT_100000-499999', 'INCOME_AMT_10M-50M', 'INCOME_AMT_1M-5M',\n",
            "       'INCOME_AMT_25000-99999', 'INCOME_AMT_50M+', 'INCOME_AMT_5M-10M',\n",
            "       'SPECIAL_CONSIDERATIONS_N', 'SPECIAL_CONSIDERATIONS_Y'],\n",
            "      dtype='object', length=117), 'removed column': '', 'z_threshold': 150, 'number of outlier rows': 27, 'number of rows': 34272, 'max_epoch': 30, 'param': {'num_layers': 5, 'activation_layer_input': 'relu', 'neurons_layer_input': 151, 'activation_layer_1': 'leaky_relu', 'neurons_layer_1': 84, 'activation_layer_2': 'relu', 'neurons_layer_2': 196, 'activation_layer_3': 'leaky_relu', 'neurons_layer_3': 51, 'activation_layer_4': 'relu', 'neurons_layer_4': 12, 'activation_layer_5': 'leaky_relu', 'neurons_layer_5': 215, 'tuner/epochs': 30, 'tuner/initial_epoch': 10, 'tuner/bracket': 2, 'tuner/round': 2, 'tuner/trial_id': '0067'}, 'number of columns': 117, 'model_accuracy': 0.7345938086509705, 'hyperband seed': 1, 'np.rand.seed and tf.random.set_seed': 42}]\n"
          ]
        }
      ],
      "source": [
        "start_threshold = 150\n",
        "end_threshold = 151\n",
        "max_epoch = 30\n",
        "df = a1pplication_df.copy()\n",
        "run_hyperparameters('try hyperparameters across thresholds 7 to 11 with max_epoch 30 and 11 possible layers', df, start_threshold, end_threshold, '', max_epoch)"
      ]
    },
    {
      "cell_type": "code",
      "execution_count": 84,
      "metadata": {},
      "outputs": [
        {
          "name": "stdout",
          "output_type": "stream",
          "text": [
            "Trial 60 Complete [00h 00m 26s]\n",
            "val_accuracy: 0.7238664031028748\n",
            "\n",
            "Best val_accuracy So Far: 0.7260256409645081\n",
            "Total elapsed time: 00h 11m 07s\n",
            "247/247 - 0s - loss: 0.5600 - accuracy: 0.7260 - 322ms/epoch - 1ms/step\n",
            "[{'Optimization Title': 'try hyperparameters across thresholds 7 to 11 with max_epoch 30 and 11 possible layers', 'columns': Index(['STATUS', 'ASK_AMT', 'IS_SUCCESSFUL', 'APPLICATION_TYPE_T10',\n",
            "       'APPLICATION_TYPE_T12', 'APPLICATION_TYPE_T13', 'APPLICATION_TYPE_T14',\n",
            "       'APPLICATION_TYPE_T15', 'APPLICATION_TYPE_T17', 'APPLICATION_TYPE_T19',\n",
            "       ...\n",
            "       'INCOME_AMT_1-9999', 'INCOME_AMT_10000-24999',\n",
            "       'INCOME_AMT_100000-499999', 'INCOME_AMT_10M-50M', 'INCOME_AMT_1M-5M',\n",
            "       'INCOME_AMT_25000-99999', 'INCOME_AMT_50M+', 'INCOME_AMT_5M-10M',\n",
            "       'SPECIAL_CONSIDERATIONS_N', 'SPECIAL_CONSIDERATIONS_Y'],\n",
            "      dtype='object', length=117), 'removed column': '', 'z_threshold': 8, 'number of outlier rows': 3114, 'number of rows': 31185, 'max_epoch': 20, 'param': {'num_layers': 5, 'activation_layer_input': 'leaky_relu', 'neurons_layer_input': 216, 'activation_layer_1': 'relu', 'neurons_layer_1': 130, 'activation_layer_2': 'leaky_relu', 'neurons_layer_2': 35, 'activation_layer_3': 'relu', 'neurons_layer_3': 48, 'activation_layer_4': 'relu', 'neurons_layer_4': 34, 'activation_layer_5': 'relu', 'neurons_layer_5': 136, 'tuner/epochs': 3, 'tuner/initial_epoch': 0, 'tuner/bracket': 2, 'tuner/round': 0}, 'number of columns': 117, 'model_accuracy': 0.7384891510009766, 'hyperband seed': 1, 'np.rand.seed and tf.random.set_seed': 42}, {'Optimization Title': 'try hyperparameters across thresholds 7 to 11 with max_epoch 30 and 11 possible layers', 'columns': Index(['STATUS', 'ASK_AMT', 'IS_SUCCESSFUL', 'APPLICATION_TYPE_T10',\n",
            "       'APPLICATION_TYPE_T12', 'APPLICATION_TYPE_T13', 'APPLICATION_TYPE_T14',\n",
            "       'APPLICATION_TYPE_T15', 'APPLICATION_TYPE_T17', 'APPLICATION_TYPE_T19',\n",
            "       ...\n",
            "       'INCOME_AMT_1-9999', 'INCOME_AMT_10000-24999',\n",
            "       'INCOME_AMT_100000-499999', 'INCOME_AMT_10M-50M', 'INCOME_AMT_1M-5M',\n",
            "       'INCOME_AMT_25000-99999', 'INCOME_AMT_50M+', 'INCOME_AMT_5M-10M',\n",
            "       'SPECIAL_CONSIDERATIONS_N', 'SPECIAL_CONSIDERATIONS_Y'],\n",
            "      dtype='object', length=117), 'removed column': '', 'z_threshold': 9, 'number of outlier rows': 2808, 'number of rows': 31491, 'max_epoch': 20, 'param': {'num_layers': 4, 'activation_layer_input': 'leaky_relu', 'neurons_layer_input': 211, 'activation_layer_1': 'relu', 'neurons_layer_1': 52, 'activation_layer_2': 'relu', 'neurons_layer_2': 191, 'activation_layer_3': 'relu', 'neurons_layer_3': 181, 'activation_layer_4': 'relu', 'neurons_layer_4': 217, 'activation_layer_5': 'relu', 'neurons_layer_5': 146, 'tuner/epochs': 20, 'tuner/initial_epoch': 7, 'tuner/bracket': 1, 'tuner/round': 1, 'tuner/trial_id': '0050'}, 'number of columns': 117, 'model_accuracy': 0.7260256409645081, 'hyperband seed': 1, 'np.rand.seed and tf.random.set_seed': 42}]\n"
          ]
        }
      ],
      "source": [
        "start_threshold = 8\n",
        "end_threshold = 10\n",
        "max_epoch = 20\n",
        "df = a1pplication_df.copy()\n",
        "run_hyperparameters('try hyperparameters across thresholds 7 to 11 with max_epoch 30 and 11 possible layers', df, start_threshold, end_threshold, '', max_epoch)"
      ]
    },
    {
      "cell_type": "code",
      "execution_count": null,
      "metadata": {},
      "outputs": [],
      "source": []
    },
    {
      "cell_type": "markdown",
      "metadata": {
        "id": "ADtmiY7QIGUE"
      },
      "source": [
        "# Reproduce Results of Model"
      ]
    },
    {
      "cell_type": "code",
      "execution_count": null,
      "metadata": {},
      "outputs": [],
      "source": []
    },
    {
      "cell_type": "code",
      "execution_count": null,
      "metadata": {
        "id": "PdsZ6GzyGewQ"
      },
      "outputs": [],
      "source": []
    },
    {
      "cell_type": "code",
      "execution_count": null,
      "metadata": {
        "id": "Pt09yDhOF7f-",
        "outputId": "e5a06d7a-f7a6-401a-dd22-e3d7ad0169e4"
      },
      "outputs": [
        {
          "data": {
            "text/plain": [
              "APPLICATION_TYPE          object\n",
              "AFFILIATION               object\n",
              "CLASSIFICATION            object\n",
              "USE_CASE                  object\n",
              "ORGANIZATION              object\n",
              "STATUS                     int64\n",
              "INCOME_AMT                object\n",
              "SPECIAL_CONSIDERATIONS    object\n",
              "ASK_AMT                    int64\n",
              "IS_SUCCESSFUL              int64\n",
              "dtype: object"
            ]
          },
          "execution_count": 124,
          "metadata": {},
          "output_type": "execute_result"
        }
      ],
      "source": [
        "a1pplication_df.dtypes"
      ]
    },
    {
      "cell_type": "code",
      "execution_count": null,
      "metadata": {
        "id": "zxz3XZWCF7f-",
        "outputId": "d24be157-6026-410c-b808-af373a26de29"
      },
      "outputs": [
        {
          "data": {
            "text/plain": [
              "APPLICATION_TYPE          object\n",
              "AFFILIATION               object\n",
              "CLASSIFICATION            object\n",
              "USE_CASE                  object\n",
              "ORGANIZATION              object\n",
              "STATUS                     int64\n",
              "INCOME_AMT                 int64\n",
              "SPECIAL_CONSIDERATIONS    object\n",
              "ASK_AMT                    int64\n",
              "IS_SUCCESSFUL              int64\n",
              "dtype: object"
            ]
          },
          "execution_count": 128,
          "metadata": {},
          "output_type": "execute_result"
        }
      ],
      "source": [
        "a2pplication_df = a1pplication_df.copy()\n",
        "a2pplication_df['INCOME_AMT'] = a2pplication_df['INCOME_AMT'].replace('1-9999',\"5000\")\n",
        "a2pplication_df['INCOME_AMT'] = a2pplication_df['INCOME_AMT'].replace('10000-24999',\"17500\")\n",
        "a2pplication_df['INCOME_AMT'] = a2pplication_df['INCOME_AMT'].replace('100000-499999',\"300000\")\n",
        "a2pplication_df['INCOME_AMT'] = a2pplication_df['INCOME_AMT'].replace('10M-50M',\"30000000\")\n",
        "a2pplication_df['INCOME_AMT'] = a2pplication_df['INCOME_AMT'].replace('1M-5M',\"3000000\")\n",
        "a2pplication_df['INCOME_AMT'] = a2pplication_df['INCOME_AMT'].replace('25000-99999',\"62500\")\n",
        "a2pplication_df['INCOME_AMT'] = a2pplication_df['INCOME_AMT'].replace('50M+',\"50000000\")\n",
        "a2pplication_df['INCOME_AMT'] = a2pplication_df['INCOME_AMT'].replace('5M-10M',\"7500000\")\n",
        "a2pplication_df['INCOME_AMT'] = a2pplication_df['INCOME_AMT'].replace('50M+',\"50000000\")\n",
        "# a2pplication_df['INCOME_AMT'] = a2pplication_df['INCOME_AMT'].\n",
        "a2pplication_df['INCOME_AMT'] = a2pplication_df['INCOME_AMT'].astype('int64')\n",
        "a2pplication_df.dtypes"
      ]
    },
    {
      "cell_type": "code",
      "execution_count": null,
      "metadata": {
        "id": "kC5qvhafF7gA"
      },
      "outputs": [],
      "source": []
    },
    {
      "cell_type": "code",
      "execution_count": null,
      "metadata": {
        "id": "EZkFDTb3F7gA"
      },
      "outputs": [],
      "source": []
    },
    {
      "cell_type": "code",
      "execution_count": null,
      "metadata": {
        "id": "-AxcBMjuF7gA"
      },
      "outputs": [],
      "source": []
    },
    {
      "cell_type": "code",
      "execution_count": null,
      "metadata": {
        "id": "qZSz_TqQF7gA"
      },
      "outputs": [],
      "source": []
    },
    {
      "cell_type": "code",
      "execution_count": null,
      "metadata": {
        "id": "eZcg9FmbF7gA"
      },
      "outputs": [],
      "source": [
        "len(df[column].value_counts())-1"
      ]
    },
    {
      "cell_type": "code",
      "execution_count": null,
      "metadata": {
        "id": "3N_YpqihF7gB",
        "outputId": "a187eada-6d99-4abc-a627-29bf956d06c9"
      },
      "outputs": [
        {
          "ename": "TypeError",
          "evalue": "optimization2() missing 1 required positional argument: 'step'",
          "output_type": "error",
          "traceback": [
            "\u001b[1;31m---------------------------------------------------------------------------\u001b[0m",
            "\u001b[1;31mTypeError\u001b[0m                                 Traceback (most recent call last)",
            "\u001b[1;32mc:\\Users\\T852\\Downloads\\TempPic\\A3lphabetSoupCharity_Optimization.ipynb Cell 30\u001b[0m line \u001b[0;36m1\n\u001b[1;32m----> <a href='vscode-notebook-cell:/c%3A/Users/T852/Downloads/TempPic/A3lphabetSoupCharity_Optimization.ipynb#X55sZmlsZQ%3D%3D?line=0'>1</a>\u001b[0m optimization2(\u001b[39m'\u001b[39;49m\u001b[39mcheck if otherizing APPLICATION_TYPE increases accuracy\u001b[39;49m\u001b[39m'\u001b[39;49m, a1pplication_df, [\u001b[39m'\u001b[39;49m\u001b[39mAPPLICATION_TYPE\u001b[39;49m\u001b[39m'\u001b[39;49m, \u001b[39m-\u001b[39;49m\u001b[39m5\u001b[39;49m])\n",
            "\u001b[1;31mTypeError\u001b[0m: optimization2() missing 1 required positional argument: 'step'"
          ]
        }
      ],
      "source": [
        "optimization2('check if otherizing APPLICATION_TYPE increases accuracy', a1pplication_df, ['APPLICATION_TYPE', -5])"
      ]
    },
    {
      "cell_type": "code",
      "execution_count": null,
      "metadata": {
        "id": "nOaTsflNF7gB",
        "outputId": "97440410-85f5-43af-ce65-e53a9a8df5fe"
      },
      "outputs": [
        {
          "ename": "AttributeError",
          "evalue": "module 'tensorflow._api.v2.random' has no attribute 'get_seed'",
          "output_type": "error",
          "traceback": [
            "\u001b[1;31m---------------------------------------------------------------------------\u001b[0m",
            "\u001b[1;31mAttributeError\u001b[0m                            Traceback (most recent call last)",
            "\u001b[1;32mc:\\Users\\T852\\Downloads\\TempPic\\A3lphabetSoupCharity_Optimization.ipynb Cell 16\u001b[0m line \u001b[0;36m1\n\u001b[1;32m----> <a href='vscode-notebook-cell:/c%3A/Users/T852/Downloads/TempPic/A3lphabetSoupCharity_Optimization.ipynb#X36sZmlsZQ%3D%3D?line=0'>1</a>\u001b[0m \u001b[39mprint\u001b[39m(\u001b[39mstr\u001b[39m(tf\u001b[39m.\u001b[39;49mrandom\u001b[39m.\u001b[39;49mget_seed()))\n",
            "\u001b[1;31mAttributeError\u001b[0m: module 'tensorflow._api.v2.random' has no attribute 'get_seed'"
          ]
        }
      ],
      "source": [
        "print(str(tf.random.get_seed()))"
      ]
    },
    {
      "cell_type": "code",
      "execution_count": null,
      "metadata": {
        "id": "gCLI5o51F7gB",
        "outputId": "600eeb74-ffe7-492b-d686-08a116ae9028"
      },
      "outputs": [
        {
          "data": {
            "text/plain": [
              "<tf.Tensor: shape=(), dtype=int32, numpy=454295297>"
            ]
          },
          "execution_count": 106,
          "metadata": {},
          "output_type": "execute_result"
        }
      ],
      "source": [
        "import tensorflow as tf\n",
        "\n",
        "# Custom TensorFlow operation to capture random seed\n",
        "@tf.function\n",
        "def get_random_seed():\n",
        "    seed = tf.random.uniform(shape=(), maxval=2**31 - 1, dtype=tf.int32)\n",
        "    return seed\n",
        "\n",
        "# Define a custom callback to log the random seed during training\n",
        "class RandomSeedLogger(tf.keras.callbacks.Callback):\n",
        "    def on_train_begin(self, logs=None):\n",
        "        random_seed = self.model.get_layer(index=0).call(get_random_seed)\n",
        "        print(f\"Random Seed: {random_seed.numpy()}\")\n",
        "\n",
        "# Create an instance of the custom callback\n",
        "random_seed_logger = RandomSeedLogger()\n",
        "get_random_seed()"
      ]
    },
    {
      "cell_type": "code",
      "execution_count": null,
      "metadata": {
        "id": "AqNSua7WF7gB"
      },
      "outputs": [],
      "source": [
        "def print_all(datalist, list_of_keys):\n",
        "    for row in datalist:\n",
        "        for key in list_of_keys:\n",
        "            print(f'{key}: {row[key]}')"
      ]
    },
    {
      "cell_type": "code",
      "execution_count": null,
      "metadata": {
        "id": "u0SBcLUiF7gB",
        "outputId": "f7ce8b84-f6d5-4b96-b804-b2b12acfb121"
      },
      "outputs": [
        {
          "name": "stdout",
          "output_type": "stream",
          "text": [
            "3\n",
            "dict_keys(['columns', 'removed column', 'z_threshold', 'outlier rows', 'number of rows', 'param', 'model_accuracy'])\n",
            "z_threshold: 10\n",
            "model_accuracy: 0.7370668053627014\n",
            "param: {'activation': 'tanh', 'first_units': 186, 'num_layers': 1, 'units_0': 172, 'units_1': 208, 'units_2': 169, 'units_3': 29, 'units_4': 7, 'tuner/epochs': 20, 'tuner/initial_epoch': 0, 'tuner/bracket': 0, 'tuner/round': 0}\n",
            "z_threshold: 10\n",
            "model_accuracy: 0.7361878156661987\n",
            "param: {'activation': 'relu', 'first_units': 166, 'num_layers': 4, 'units_0': 139, 'units_1': 216, 'units_2': 203, 'units_3': 214, 'units_4': 131, 'tuner/epochs': 20, 'tuner/initial_epoch': 7, 'tuner/bracket': 1, 'tuner/round': 1, 'tuner/trial_id': '0023'}\n",
            "z_threshold: 10\n",
            "model_accuracy: 0.7296745777130127\n",
            "param: {'activation': 'relu', 'first_units': 83, 'num_layers': 4, 'units_0': 86, 'units_1': 49, 'units_2': 72, 'units_3': 33, 'units_4': 18, 'tuner/epochs': 20, 'tuner/initial_epoch': 7, 'tuner/bracket': 2, 'tuner/round': 2, 'tuner/trial_id': '0013'}\n"
          ]
        }
      ],
      "source": [
        "print(len(final_results_all))\n",
        "print(final_results_all[0].keys())\n",
        "print_all(final_results_all, ['z_threshold', 'model_accuracy', 'param'])\n",
        "# final_results_all\n"
      ]
    },
    {
      "cell_type": "code",
      "execution_count": null,
      "metadata": {
        "id": "occJVGf3F7gB"
      },
      "outputs": [],
      "source": []
    },
    {
      "cell_type": "code",
      "execution_count": null,
      "metadata": {
        "id": "SFHy47tuF7gB",
        "outputId": "d3ab3119-0b45-4091-9e1f-09d4610c427d"
      },
      "outputs": [
        {
          "name": "stdout",
          "output_type": "stream",
          "text": [
            "2\n",
            "dict_keys(['columns', 'removed column', 'z_threshold', 'outlier rows', 'number of rows', 'param', 'model_accuracy'])\n",
            "z_threshold: 9\n",
            "model_accuracy: 0.7260256409645081\n",
            "param: {'activation': 'leaky_relu', 'first_units': 126, 'num_layers': 3, 'units_0': 185, 'units_1': 129, 'units_2': 220, 'units_3': 58, 'units_4': 189, 'tuner/epochs': 3, 'tuner/initial_epoch': 0, 'tuner/bracket': 2, 'tuner/round': 0}\n",
            "z_threshold: 10\n",
            "model_accuracy: 0.7383224368095398\n",
            "param: {'activation': 'relu', 'first_units': 126, 'num_layers': 4, 'units_0': 62, 'units_1': 134, 'units_2': 89, 'units_3': 7, 'units_4': 135, 'tuner/epochs': 20, 'tuner/initial_epoch': 0, 'tuner/bracket': 0, 'tuner/round': 0}\n"
          ]
        },
        {
          "data": {
            "text/plain": [
              "[{'columns': Index(['STATUS', 'ASK_AMT', 'IS_SUCCESSFUL', 'APPLICATION_TYPE_T10',\n",
              "         'APPLICATION_TYPE_T12', 'APPLICATION_TYPE_T13', 'APPLICATION_TYPE_T14',\n",
              "         'APPLICATION_TYPE_T15', 'APPLICATION_TYPE_T17', 'APPLICATION_TYPE_T19',\n",
              "         ...\n",
              "         'INCOME_AMT_1-9999', 'INCOME_AMT_10000-24999',\n",
              "         'INCOME_AMT_100000-499999', 'INCOME_AMT_10M-50M', 'INCOME_AMT_1M-5M',\n",
              "         'INCOME_AMT_25000-99999', 'INCOME_AMT_50M+', 'INCOME_AMT_5M-10M',\n",
              "         'SPECIAL_CONSIDERATIONS_N', 'SPECIAL_CONSIDERATIONS_Y'],\n",
              "        dtype='object', length=117),\n",
              "  'removed column': '',\n",
              "  'z_threshold': 9,\n",
              "  'outlier rows':        STATUS    ASK_AMT  IS_SUCCESSFUL  APPLICATION_TYPE_T10  \\\n",
              "  4           1     142590              1                     0   \n",
              "  7           1    7508025              1                     0   \n",
              "  13          1       5301              1                     0   \n",
              "  17          1   86380556              0                     0   \n",
              "  41          1    1329410              0                     0   \n",
              "  ...       ...        ...            ...                   ...   \n",
              "  34226       1     223007              1                     0   \n",
              "  34236       1   40667861              0                     0   \n",
              "  34237       1  539701179              0                     0   \n",
              "  34250       1   14241629              1                     0   \n",
              "  34277       1       5000              1                     0   \n",
              "  \n",
              "         APPLICATION_TYPE_T12  APPLICATION_TYPE_T13  APPLICATION_TYPE_T14  \\\n",
              "  4                         0                     0                     0   \n",
              "  7                         0                     0                     0   \n",
              "  13                        0                     0                     0   \n",
              "  17                        0                     0                     0   \n",
              "  41                        0                     0                     0   \n",
              "  ...                     ...                   ...                   ...   \n",
              "  34226                     0                     0                     0   \n",
              "  34236                     0                     0                     0   \n",
              "  34237                     0                     0                     0   \n",
              "  34250                     0                     0                     0   \n",
              "  34277                     0                     0                     0   \n",
              "  \n",
              "         APPLICATION_TYPE_T15  APPLICATION_TYPE_T17  APPLICATION_TYPE_T19  ...  \\\n",
              "  4                         0                     0                     0  ...   \n",
              "  7                         0                     0                     0  ...   \n",
              "  13                        0                     0                     0  ...   \n",
              "  17                        0                     0                     0  ...   \n",
              "  41                        0                     0                     0  ...   \n",
              "  ...                     ...                   ...                   ...  ...   \n",
              "  34226                     0                     0                     0  ...   \n",
              "  34236                     0                     0                     0  ...   \n",
              "  34237                     0                     0                     0  ...   \n",
              "  34250                     0                     0                     0  ...   \n",
              "  34277                     0                     0                     0  ...   \n",
              "  \n",
              "         INCOME_AMT_1-9999  INCOME_AMT_10000-24999  INCOME_AMT_100000-499999  \\\n",
              "  4                      0                       0                         1   \n",
              "  7                      0                       0                         0   \n",
              "  13                     0                       0                         0   \n",
              "  17                     0                       0                         0   \n",
              "  41                     0                       0                         0   \n",
              "  ...                  ...                     ...                       ...   \n",
              "  34226                  0                       0                         1   \n",
              "  34236                  0                       0                         0   \n",
              "  34237                  0                       0                         0   \n",
              "  34250                  0                       0                         0   \n",
              "  34277                  0                       0                         0   \n",
              "  \n",
              "         INCOME_AMT_10M-50M  INCOME_AMT_1M-5M  INCOME_AMT_25000-99999  \\\n",
              "  4                       0                 0                       0   \n",
              "  7                       1                 0                       0   \n",
              "  13                      0                 0                       1   \n",
              "  17                      0                 0                       0   \n",
              "  41                      0                 0                       1   \n",
              "  ...                   ...               ...                     ...   \n",
              "  34226                   0                 0                       0   \n",
              "  34236                   1                 0                       0   \n",
              "  34237                   0                 0                       0   \n",
              "  34250                   1                 0                       0   \n",
              "  34277                   0                 0                       0   \n",
              "  \n",
              "         INCOME_AMT_50M+  INCOME_AMT_5M-10M  SPECIAL_CONSIDERATIONS_N  \\\n",
              "  4                    0                  0                         1   \n",
              "  7                    0                  0                         1   \n",
              "  13                   0                  0                         1   \n",
              "  17                   1                  0                         1   \n",
              "  41                   0                  0                         1   \n",
              "  ...                ...                ...                       ...   \n",
              "  34226                0                  0                         1   \n",
              "  34236                0                  0                         1   \n",
              "  34237                1                  0                         1   \n",
              "  34250                0                  0                         1   \n",
              "  34277                0                  0                         1   \n",
              "  \n",
              "         SPECIAL_CONSIDERATIONS_Y  \n",
              "  4                             0  \n",
              "  7                             0  \n",
              "  13                            0  \n",
              "  17                            0  \n",
              "  41                            0  \n",
              "  ...                         ...  \n",
              "  34226                         0  \n",
              "  34236                         0  \n",
              "  34237                         0  \n",
              "  34250                         0  \n",
              "  34277                         0  \n",
              "  \n",
              "  [2808 rows x 117 columns],\n",
              "  'number of rows': 31491,\n",
              "  'param': {'activation': 'leaky_relu',\n",
              "   'first_units': 126,\n",
              "   'num_layers': 3,\n",
              "   'units_0': 185,\n",
              "   'units_1': 129,\n",
              "   'units_2': 220,\n",
              "   'units_3': 58,\n",
              "   'units_4': 189,\n",
              "   'tuner/epochs': 3,\n",
              "   'tuner/initial_epoch': 0,\n",
              "   'tuner/bracket': 2,\n",
              "   'tuner/round': 0},\n",
              "  'model_accuracy': 0.7260256409645081},\n",
              " {'columns': Index(['STATUS', 'ASK_AMT', 'IS_SUCCESSFUL', 'APPLICATION_TYPE_T10',\n",
              "         'APPLICATION_TYPE_T12', 'APPLICATION_TYPE_T13', 'APPLICATION_TYPE_T14',\n",
              "         'APPLICATION_TYPE_T15', 'APPLICATION_TYPE_T17', 'APPLICATION_TYPE_T19',\n",
              "         ...\n",
              "         'INCOME_AMT_1-9999', 'INCOME_AMT_10000-24999',\n",
              "         'INCOME_AMT_100000-499999', 'INCOME_AMT_10M-50M', 'INCOME_AMT_1M-5M',\n",
              "         'INCOME_AMT_25000-99999', 'INCOME_AMT_50M+', 'INCOME_AMT_5M-10M',\n",
              "         'SPECIAL_CONSIDERATIONS_N', 'SPECIAL_CONSIDERATIONS_Y'],\n",
              "        dtype='object', length=117),\n",
              "  'removed column': '',\n",
              "  'z_threshold': 10,\n",
              "  'outlier rows':        STATUS    ASK_AMT  IS_SUCCESSFUL  APPLICATION_TYPE_T10  \\\n",
              "  4           1     142590              1                     0   \n",
              "  7           1    7508025              1                     0   \n",
              "  13          1       5301              1                     0   \n",
              "  17          1   86380556              0                     0   \n",
              "  41          1    1329410              0                     0   \n",
              "  ...       ...        ...            ...                   ...   \n",
              "  34226       1     223007              1                     0   \n",
              "  34236       1   40667861              0                     0   \n",
              "  34237       1  539701179              0                     0   \n",
              "  34250       1   14241629              1                     0   \n",
              "  34277       1       5000              1                     0   \n",
              "  \n",
              "         APPLICATION_TYPE_T12  APPLICATION_TYPE_T13  APPLICATION_TYPE_T14  \\\n",
              "  4                         0                     0                     0   \n",
              "  7                         0                     0                     0   \n",
              "  13                        0                     0                     0   \n",
              "  17                        0                     0                     0   \n",
              "  41                        0                     0                     0   \n",
              "  ...                     ...                   ...                   ...   \n",
              "  34226                     0                     0                     0   \n",
              "  34236                     0                     0                     0   \n",
              "  34237                     0                     0                     0   \n",
              "  34250                     0                     0                     0   \n",
              "  34277                     0                     0                     0   \n",
              "  \n",
              "         APPLICATION_TYPE_T15  APPLICATION_TYPE_T17  APPLICATION_TYPE_T19  ...  \\\n",
              "  4                         0                     0                     0  ...   \n",
              "  7                         0                     0                     0  ...   \n",
              "  13                        0                     0                     0  ...   \n",
              "  17                        0                     0                     0  ...   \n",
              "  41                        0                     0                     0  ...   \n",
              "  ...                     ...                   ...                   ...  ...   \n",
              "  34226                     0                     0                     0  ...   \n",
              "  34236                     0                     0                     0  ...   \n",
              "  34237                     0                     0                     0  ...   \n",
              "  34250                     0                     0                     0  ...   \n",
              "  34277                     0                     0                     0  ...   \n",
              "  \n",
              "         INCOME_AMT_1-9999  INCOME_AMT_10000-24999  INCOME_AMT_100000-499999  \\\n",
              "  4                      0                       0                         1   \n",
              "  7                      0                       0                         0   \n",
              "  13                     0                       0                         0   \n",
              "  17                     0                       0                         0   \n",
              "  41                     0                       0                         0   \n",
              "  ...                  ...                     ...                       ...   \n",
              "  34226                  0                       0                         1   \n",
              "  34236                  0                       0                         0   \n",
              "  34237                  0                       0                         0   \n",
              "  34250                  0                       0                         0   \n",
              "  34277                  0                       0                         0   \n",
              "  \n",
              "         INCOME_AMT_10M-50M  INCOME_AMT_1M-5M  INCOME_AMT_25000-99999  \\\n",
              "  4                       0                 0                       0   \n",
              "  7                       1                 0                       0   \n",
              "  13                      0                 0                       1   \n",
              "  17                      0                 0                       0   \n",
              "  41                      0                 0                       1   \n",
              "  ...                   ...               ...                     ...   \n",
              "  34226                   0                 0                       0   \n",
              "  34236                   1                 0                       0   \n",
              "  34237                   0                 0                       0   \n",
              "  34250                   1                 0                       0   \n",
              "  34277                   0                 0                       0   \n",
              "  \n",
              "         INCOME_AMT_50M+  INCOME_AMT_5M-10M  SPECIAL_CONSIDERATIONS_N  \\\n",
              "  4                    0                  0                         1   \n",
              "  7                    0                  0                         1   \n",
              "  13                   0                  0                         1   \n",
              "  17                   1                  0                         1   \n",
              "  41                   0                  0                         1   \n",
              "  ...                ...                ...                       ...   \n",
              "  34226                0                  0                         1   \n",
              "  34236                0                  0                         1   \n",
              "  34237                1                  0                         1   \n",
              "  34250                0                  0                         1   \n",
              "  34277                0                  0                         1   \n",
              "  \n",
              "         SPECIAL_CONSIDERATIONS_Y  \n",
              "  4                             0  \n",
              "  7                             0  \n",
              "  13                            0  \n",
              "  17                            0  \n",
              "  41                            0  \n",
              "  ...                         ...  \n",
              "  34226                         0  \n",
              "  34236                         0  \n",
              "  34237                         0  \n",
              "  34250                         0  \n",
              "  34277                         0  \n",
              "  \n",
              "  [2444 rows x 117 columns],\n",
              "  'number of rows': 31855,\n",
              "  'param': {'activation': 'relu',\n",
              "   'first_units': 126,\n",
              "   'num_layers': 4,\n",
              "   'units_0': 62,\n",
              "   'units_1': 134,\n",
              "   'units_2': 89,\n",
              "   'units_3': 7,\n",
              "   'units_4': 135,\n",
              "   'tuner/epochs': 20,\n",
              "   'tuner/initial_epoch': 0,\n",
              "   'tuner/bracket': 0,\n",
              "   'tuner/round': 0},\n",
              "  'model_accuracy': 0.7383224368095398}]"
            ]
          },
          "execution_count": 46,
          "metadata": {},
          "output_type": "execute_result"
        }
      ],
      "source": [
        "print(len(final_results_all))\n",
        "print(final_results_all[0].keys())\n",
        "print_all(final_results_all, ['z_threshold', 'model_accuracy', 'param'])\n",
        "final_results_all\n"
      ]
    },
    {
      "cell_type": "code",
      "execution_count": null,
      "metadata": {
        "id": "d93ZFiQJF7gB",
        "outputId": "95dc867c-f37b-45ea-d979-47a584dfd69b"
      },
      "outputs": [
        {
          "data": {
            "text/plain": [
              "116"
            ]
          },
          "execution_count": 47,
          "metadata": {},
          "output_type": "execute_result"
        }
      ],
      "source": [
        "X.shape[1]"
      ]
    },
    {
      "cell_type": "code",
      "execution_count": null,
      "metadata": {
        "id": "YS91AkHuF7gC",
        "outputId": "20b759c6-5cee-4f70-f122-d659a354ae14"
      },
      "outputs": [
        {
          "name": "stdout",
          "output_type": "stream",
          "text": [
            "Model: \"sequential_1\"\n",
            "_________________________________________________________________\n",
            " Layer (type)                Output Shape              Param #   \n",
            "=================================================================\n",
            " dense_5 (Dense)             (None, 58)                2552      \n",
            "                                                                 \n",
            " dense_6 (Dense)             (None, 5)                 295       \n",
            "                                                                 \n",
            " dense_7 (Dense)             (None, 1)                 6         \n",
            "                                                                 \n",
            "=================================================================\n",
            "Total params: 2853 (11.14 KB)\n",
            "Trainable params: 2853 (11.14 KB)\n",
            "Non-trainable params: 0 (0.00 Byte)\n"
          ]
        },
        {
          "name": "stdout",
          "output_type": "stream",
          "text": [
            "_________________________________________________________________\n",
            "None\n"
          ]
        },
        {
          "data": {
            "text/plain": [
              "<keras.src.engine.sequential.Sequential at 0x20355a06cb0>"
            ]
          },
          "execution_count": 91,
          "metadata": {},
          "output_type": "execute_result"
        }
      ],
      "source": [
        "replicated_model = create_specific_model('leaky_relu', 1, 58, [5], X.shape[1], 'sigmoid')#create_specific_model(activation, num_layers, num_nodes_input_layer, list_of_number_of_nodes_hidden_layer, input_dim, output_activation):\n",
        "replicated_model"
      ]
    },
    {
      "cell_type": "code",
      "execution_count": null,
      "metadata": {
        "id": "0wlQfZN7F7gC",
        "outputId": "16899616-e632-460a-917f-16687e0e4d9e"
      },
      "outputs": [
        {
          "name": "stdout",
          "output_type": "stream",
          "text": [
            "Epoch 1/7\n",
            "772/772 [==============================] - 1s 841us/step - loss: 0.5757 - accuracy: 0.7158\n",
            "Epoch 2/7\n",
            "772/772 [==============================] - 1s 797us/step - loss: 0.5576 - accuracy: 0.7273\n",
            "Epoch 3/7\n",
            "772/772 [==============================] - 1s 774us/step - loss: 0.5552 - accuracy: 0.7292\n",
            "Epoch 4/7\n",
            "772/772 [==============================] - 1s 768us/step - loss: 0.5534 - accuracy: 0.7279\n",
            "Epoch 5/7\n",
            "772/772 [==============================] - 1s 775us/step - loss: 0.5525 - accuracy: 0.7297\n",
            "Epoch 6/7\n",
            "772/772 [==============================] - 1s 802us/step - loss: 0.5526 - accuracy: 0.7303\n",
            "Epoch 7/7\n",
            "772/772 [==============================] - 1s 783us/step - loss: 0.5510 - accuracy: 0.7320\n"
          ]
        }
      ],
      "source": [
        "# df_new_removed_column = a1pplication_df\n",
        "\n",
        "# df_new_removed_column = pd.get_dummies(df_new_removed_column)\n",
        "\n",
        "# outlier_rows, no_outliers_df = remove_outliers(df_new_removed_column, 10)\n",
        "\n",
        "# # Split our preprocessed data into our features and target array\n",
        "# X, y = extract_X_y(no_outliers_df, 'IS_SUCCESSFUL')\n",
        "\n",
        "# print(X.shape)\n",
        "\n",
        "# # Split the preprocessed data into a training and testing dataset\n",
        "# X_train, X_test, y_train, y_test = train_test_split(X,\n",
        "#                                                     y,\n",
        "#                                                     random_state=3,\n",
        "#                                                     stratify=y)\n",
        "\n",
        "# # Standardize X_train and X_test\n",
        "# X_train_scaled, X_test_scaled = scale_it(X_train, X_test)\n",
        "\n",
        "# Compile the model\n",
        "replicated_model.compile(loss='binary_crossentropy', optimizer='adam', metrics=['accuracy'])\n",
        "\n",
        "fit_model = replicated_model.fit(X_train_scaled, y_train, epochs=7)#, callbacks = [checkpoint_callback])"
      ]
    },
    {
      "cell_type": "code",
      "execution_count": null,
      "metadata": {
        "id": "yt0ISsDAF7gC"
      },
      "outputs": [],
      "source": []
    },
    {
      "cell_type": "code",
      "execution_count": null,
      "metadata": {
        "id": "Ghbkr4ejF7gC"
      },
      "outputs": [],
      "source": []
    },
    {
      "cell_type": "code",
      "execution_count": null,
      "metadata": {
        "id": "d5jTPjhyF7gC"
      },
      "outputs": [],
      "source": []
    },
    {
      "cell_type": "code",
      "execution_count": null,
      "metadata": {
        "id": "W-ToUNMQF7gC"
      },
      "outputs": [],
      "source": []
    }
  ],
  "metadata": {
    "colab": {
      "provenance": []
    },
    "kernelspec": {
      "display_name": "dev",
      "language": "python",
      "name": "python3"
    },
    "language_info": {
      "codemirror_mode": {
        "name": "ipython",
        "version": 3
      },
      "file_extension": ".py",
      "mimetype": "text/x-python",
      "name": "python",
      "nbconvert_exporter": "python",
      "pygments_lexer": "ipython3",
      "version": "3.10.11"
    }
  },
  "nbformat": 4,
  "nbformat_minor": 0
}
